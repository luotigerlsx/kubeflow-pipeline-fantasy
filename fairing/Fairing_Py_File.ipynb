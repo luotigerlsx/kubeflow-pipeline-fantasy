{
 "cells": [
  {
   "cell_type": "code",
   "execution_count": null,
   "metadata": {},
   "outputs": [],
   "source": [
    "# Copyright 2019 Google Inc. All Rights Reserved.\n",
    "#\n",
    "# Licensed under the Apache License, Version 2.0 (the \"License\");\n",
    "# you may not use this file except in compliance with the License.\n",
    "# You may obtain a copy of the License at\n",
    "#\n",
    "#      http://www.apache.org/licenses/LICENSE-2.0\n",
    "#\n",
    "# Unless required by applicable law or agreed to in writing, software\n",
    "# distributed under the License is distributed on an \"AS IS\" BASIS,\n",
    "# WITHOUT WARRANTIES OR CONDITIONS OF ANY KIND, either express or implied.\n",
    "# See the License for the specific language governing permissions and\n",
    "# limitations under the License.\n",
    "# =============================================================================="
   ]
  },
  {
   "cell_type": "markdown",
   "metadata": {},
   "source": [
    "# Train tensorflow or keras model in .py files on GCP or Kubeflow from Notebooks\n",
    "\n",
    "This notebook introduces you to using Kubeflow Fairing to train the model, which is developed using tensorflow or keras and enclosed in python files, to Kubeflow on Google Kubernetes Engine (GKE), and Google Cloud AI Platform training. This notebook demonstrate how to:\n",
    " \n",
    "* Use Kubeflow Fairing to train an Tensorflow model remotely on Kubeflow cluster,\n",
    "* Use Kubeflow Fairing to train an Tensorflow model remotely on AI Platform training,\n",
    "\n",
    "**You need Python 3.6 to use Kubeflow Fairing.**"
   ]
  },
  {
   "cell_type": "markdown",
   "metadata": {},
   "source": [
    "## Setups\n",
    "\n",
    "* Pre-conditions\n",
    "    - Deployed a kubeflow cluster through https://deploy.kubeflow.cloud/\n",
    "    - Have the following environment variable ready: \n",
    "        - PROJECT_ID # project host the kubeflow cluster or for running AI platform training\n",
    "        - DEPLOYMENT_NAME # kubeflow deployment name, the same the cluster name after delpoyed\n",
    "        - GCP_BUCKET # google cloud storage bucket\n",
    "\n",
    "* Create service account\n",
    "```bash\n",
    "export SA_NAME = [service account name]\n",
    "gcloud iam service-accounts create ${SA_NAME}\n",
    "gcloud projects add-iam-policy-binding ${PROJECT_ID} \\\n",
    "    --member serviceAccount:${SA_NAME}@${PROJECT_ID}.iam.gserviceaccount.com \\\n",
    "    --role 'roles/editor'\n",
    "gcloud iam service-accounts keys create ~/key.json \\\n",
    "    --iam-account ${SA_NAME}@${PROJECT_ID}.iam.gserviceaccount.com\n",
    "```\n",
    "\n",
    "* Authorize for Source Repository\n",
    "```bash\n",
    "gcloud auth configure-docker\n",
    "```\n",
    "\n",
    "* Update local kubeconfig (for submiting job to kubeflow cluster)\n",
    "```bash\n",
    "export CLUSTER_NAME=${DEPLOYMENT_NAME} # this is the deployment name or the kubenete cluster name\n",
    "export ZONE=us-central1-c\n",
    "gcloud container clusters get-credentials ${CLUSTER_NAME} --region ${ZONE}\n",
    "```\n",
    "\n",
    "* Set the environmental variable: GOOGLE_APPLICATION_CREDENTIALS\n",
    "```bash\n",
    "export GOOGLE_APPLICATION_CREDENTIALS = ....\n",
    "```\n",
    "```python\n",
    "os.environ['GOOGLE_APPLICATION_CREDENTIALS']=...\n",
    "```\n",
    "\n",
    "* Install the lastest version of fairing\n",
    "```python\n",
    "pip install git+https://github.com/kubeflow/fairing@master\n",
    "```"
   ]
  },
  {
   "cell_type": "markdown",
   "metadata": {},
   "source": [
    "**Please not that the above configuration is required for notebook service running outside Kubeflow environment. And the examples demonstrated in the notebook is fully tested on notebook service outside Kubeflow cluster also.**\n",
    "\n",
    "**The environemt variables, e.g. service account, projects and etc, should have been pre-configured while setting up the cluster.**"
   ]
  },
  {
   "cell_type": "code",
   "execution_count": 1,
   "metadata": {},
   "outputs": [],
   "source": [
    "import os\n",
    "import kubeflow.fairing as fairing\n",
    "from kubeflow.fairing.cloud import gcp"
   ]
  },
  {
   "cell_type": "code",
   "execution_count": 2,
   "metadata": {},
   "outputs": [
    {
     "name": "stdout",
     "output_type": "stream",
     "text": [
      "../kubeflow-pipeline/config/kubeflow-pipeline-fantasy.json\r\n"
     ]
    }
   ],
   "source": [
    "# This is for local notebook instead of that in kubeflow cluster\n",
    "os.environ['GOOGLE_APPLICATION_CREDENTIALS'] = '../kubeflow-pipeline/config/kubeflow-pipeline-fantasy.json'\n",
    "! echo $GOOGLE_APPLICATION_CREDENTIALS"
   ]
  },
  {
   "cell_type": "code",
   "execution_count": 9,
   "metadata": {},
   "outputs": [
    {
     "name": "stdout",
     "output_type": "stream",
     "text": [
      "kubeflow-pipeline-fantasy\n"
     ]
    }
   ],
   "source": [
    "# Setting up google container repositories (GCR) for storing output containers\n",
    "# You can use any docker container registry istead of GCR\n",
    "# For local notebook, GCP_PROJECT should be set explicitly\n",
    "\n",
    "GCP_PROJECT = fairing.cloud.gcp.guess_project_name() # 'kubeflow-pipeline-fantasy'\n",
    "GCS_BUCKET='gs://kubeflow-pipeline-ui'\n",
    "MY_NAMESPACE = 'kubeflow-luoshixin'\n",
    "print(GCP_PROJECT)"
   ]
  },
  {
   "cell_type": "code",
   "execution_count": 4,
   "metadata": {},
   "outputs": [],
   "source": [
    "# In this demo, I use gsutil, therefore i compile a special image to install GoogleCloudSDK as based image\n",
    "base_image = 'gcr.io/{}/kubeflow-fairing-base:latest'.format(GCP_PROJECT)\n",
    "# ! gcloud builds submit --tag {base_image}"
   ]
  },
  {
   "cell_type": "markdown",
   "metadata": {},
   "source": [
    "For build using docker\n",
    "```bash\n",
    "docker build . -t {base_image}\n",
    "docker push {base_image}\n",
    "```"
   ]
  },
  {
   "cell_type": "code",
   "execution_count": 5,
   "metadata": {},
   "outputs": [],
   "source": [
    "DOCKER_REGISTRY = 'gcr.io/{}/kubeflow-fairing-job-tf'.format(GCP_PROJECT)\n",
    "BASE_IMAGE = base_image"
   ]
  },
  {
   "cell_type": "code",
   "execution_count": 6,
   "metadata": {},
   "outputs": [],
   "source": [
    "file_name = 'model.py'"
   ]
  },
  {
   "cell_type": "markdown",
   "metadata": {},
   "source": [
    "## Deploy the training job to AI platform training"
   ]
  },
  {
   "cell_type": "code",
   "execution_count": 8,
   "metadata": {
    "scrolled": false
   },
   "outputs": [
    {
     "name": "stderr",
     "output_type": "stream",
     "text": [
      "Using preprocessor: <fairing.preprocessors.base.BasePreProcessor object at 0x11f4fe128>\n",
      "Using builder: <fairing.builders.docker.docker.DockerBuilder object at 0x11f4fee48>\n",
      "file_cache is unavailable when using oauth2client >= 4.0.0 or google-auth\n",
      "Traceback (most recent call last):\n",
      "  File \"/Users/luoshixin/LocalSim/virtualPython36/lib/python3.6/site-packages/googleapiclient/discovery_cache/__init__.py\", line 36, in autodetect\n",
      "    from google.appengine.api import memcache\n",
      "ModuleNotFoundError: No module named 'google.appengine'\n",
      "\n",
      "During handling of the above exception, another exception occurred:\n",
      "\n",
      "Traceback (most recent call last):\n",
      "  File \"/Users/luoshixin/LocalSim/virtualPython36/lib/python3.6/site-packages/googleapiclient/discovery_cache/file_cache.py\", line 33, in <module>\n",
      "    from oauth2client.contrib.locked_file import LockedFile\n",
      "ModuleNotFoundError: No module named 'oauth2client.contrib.locked_file'\n",
      "\n",
      "During handling of the above exception, another exception occurred:\n",
      "\n",
      "Traceback (most recent call last):\n",
      "  File \"/Users/luoshixin/LocalSim/virtualPython36/lib/python3.6/site-packages/googleapiclient/discovery_cache/file_cache.py\", line 37, in <module>\n",
      "    from oauth2client.locked_file import LockedFile\n",
      "ModuleNotFoundError: No module named 'oauth2client.locked_file'\n",
      "\n",
      "During handling of the above exception, another exception occurred:\n",
      "\n",
      "Traceback (most recent call last):\n",
      "  File \"/Users/luoshixin/LocalSim/virtualPython36/lib/python3.6/site-packages/googleapiclient/discovery_cache/__init__.py\", line 41, in autodetect\n",
      "    from . import file_cache\n",
      "  File \"/Users/luoshixin/LocalSim/virtualPython36/lib/python3.6/site-packages/googleapiclient/discovery_cache/file_cache.py\", line 41, in <module>\n",
      "    'file_cache is unavailable when using oauth2client >= 4.0.0 or google-auth')\n",
      "ImportError: file_cache is unavailable when using oauth2client >= 4.0.0 or google-auth\n",
      "URL being requested: GET https://www.googleapis.com/discovery/v1/apis/ml/v1/rest\n",
      "Building image using docker\n",
      "Docker command: ['python', '/app/model.py']\n",
      "Creating docker context: /tmp/fairing_context_6ulb5qmv\n",
      "Context: /tmp/fairing_context_6ulb5qmv, Adding /Users/luoshixin/LocalSim/virtualPython36/lib/python3.6/site-packages/fairing/__init__.py at /app/fairing/__init__.py\n",
      "Context: /tmp/fairing_context_6ulb5qmv, Adding /Users/luoshixin/LocalSim/virtualPython36/lib/python3.6/site-packages/fairing/runtime_config.py at /app/fairing/runtime_config.py\n",
      "Context: /tmp/fairing_context_6ulb5qmv, Adding model.py at /app/model.py\n",
      "Context: /tmp/fairing_context_6ulb5qmv, Adding requirements.txt at /app/requirements.txt\n",
      "Context: /tmp/fairing_context_6ulb5qmv, Adding /tmp/fairing_dockerfile_ju8v9_bp at Dockerfile\n",
      "Building docker image gcr.io/gojek-kubeflow/fairing-job-tf/fairing-job:F0D4918E...\n",
      "Build output: Step 1/7 : FROM gcr.io/gojek-kubeflow/fairing-predict-example:latest\n",
      "Build output: \n",
      "Build output: ---> 07b0c0a773a2\n",
      "Build output: Step 2/7 : WORKDIR /app/\n",
      "Build output: \n",
      "Build output: ---> Using cache\n",
      "Build output: ---> e38aad2dc182\n",
      "Build output: Step 3/7 : ENV FAIRING_RUNTIME 1\n",
      "Build output: \n",
      "Build output: ---> Using cache\n",
      "Build output: ---> 597bd070338a\n",
      "Build output: Step 4/7 : COPY /app//requirements.txt /app/\n",
      "Build output: \n",
      "Build output: ---> Using cache\n",
      "Build output: ---> 05e78d5eb908\n",
      "Build output: Step 5/7 : RUN if [ -e requirements.txt ];then pip install --no-cache -r requirements.txt; fi\n",
      "Build output: \n",
      "Build output: ---> Using cache\n",
      "Build output: ---> e31aa3ffcc59\n",
      "Build output: Step 6/7 : COPY /app/ /app/\n",
      "Build output: \n",
      "Build output: ---> Using cache\n",
      "Build output: ---> 710caec21dce\n",
      "Build output: Step 7/7 : CMD python /app/model.py\n",
      "Build output: \n",
      "Build output: ---> Using cache\n",
      "Build output: ---> d52847d8c0d9\n",
      "Push finished: {'ID': 'sha256:d52847d8c0d9ba6599a6f0f8c85a21fbe0d03ac17093ec6792ed92ab82dfe5fb'}\n",
      "Build output: Successfully built d52847d8c0d9\n",
      "Build output: Successfully tagged gcr.io/gojek-kubeflow/fairing-job-tf/fairing-job:F0D4918E\n",
      "Publishing image gcr.io/gojek-kubeflow/fairing-job-tf/fairing-job:F0D4918E...\n",
      "Push output: The push refers to repository [gcr.io/gojek-kubeflow/fairing-job-tf/fairing-job] None\n",
      "Push output: Preparing None\n",
      "Push output: Preparing None\n",
      "Push output: Preparing None\n",
      "Push output: Preparing None\n",
      "Push output: Preparing None\n",
      "Push output: Preparing None\n",
      "Push output: Preparing None\n",
      "Push output: Preparing None\n",
      "Push output: Preparing None\n",
      "Push output: Preparing None\n",
      "Push output: Preparing None\n",
      "Push output: Preparing None\n",
      "Push output: Preparing None\n",
      "Push output: Preparing None\n",
      "Push output: Preparing None\n",
      "Push output: Waiting None\n",
      "Push output: Waiting None\n",
      "Push output: Waiting None\n",
      "Push output: Waiting None\n",
      "Push output: Waiting None\n",
      "Push output: Waiting None\n",
      "Push output: Waiting None\n",
      "Push output: Waiting None\n",
      "Push output: Waiting None\n",
      "Push output: Waiting None\n",
      "Push output: Layer already exists None\n",
      "Push output: Layer already exists None\n",
      "Push output: Layer already exists None\n",
      "Push output: Layer already exists None\n",
      "Push output: Layer already exists None\n",
      "Push output: Layer already exists None\n",
      "Push output: Layer already exists None\n",
      "Push output: Layer already exists None\n",
      "Push output: Layer already exists None\n",
      "Push output: Layer already exists None\n",
      "Push output: Layer already exists None\n",
      "Push output: Layer already exists None\n",
      "Push output: Layer already exists None\n",
      "Push output: Layer already exists None\n",
      "Push output: Layer already exists None\n",
      "Push output: F0D4918E: digest: sha256:55679cf333fc88efc221d4ba7cede8d88658d210c7ec045bda3160199575a157 size: 3472 None\n",
      "Push finished: {'Tag': 'F0D4918E', 'Digest': 'sha256:55679cf333fc88efc221d4ba7cede8d88658d210c7ec045bda3160199575a157', 'Size': 3472}\n",
      "URL being requested: POST https://ml.googleapis.com/v1/projects/gojek-kubeflow/jobs?alt=json\n"
     ]
    },
    {
     "name": "stdout",
     "output_type": "stream",
     "text": [
      "Creating training job with the following options: {'jobId': 'fairing_job_5310fcf1', 'trainingInput': {'masterConfig': {'imageUri': 'gcr.io/gojek-kubeflow/fairing-job-tf/fairing-job:F0D4918E'}, 'region': 'us-central1'}}\n",
      "Job submitted successfully.\n",
      "Access job logs at the following URL:\n",
      "https://console.cloud.google.com/mlengine/jobs/fairing_job_5310fcf1?project=gojek-kubeflow\n"
     ]
    },
    {
     "data": {
      "text/plain": [
       "(<fairing.preprocessors.base.BasePreProcessor at 0x11f4fe128>,\n",
       " <fairing.builders.docker.docker.DockerBuilder at 0x11f4fee48>,\n",
       " <fairing.deployers.gcp.gcp.GCPJob at 0x11f4fefd0>)"
      ]
     },
     "execution_count": 8,
     "metadata": {},
     "output_type": "execute_result"
    }
   ],
   "source": [
    "fairing.config.set_preprocessor('python', \n",
    "                                executable=file_name, \n",
    "                                input_files=[file_name, 'requirements.txt'])\n",
    "\n",
    "fairing.config.set_builder(name='cluster', \n",
    "                           registry=DOCKER_REGISTRY, \n",
    "                           context_source=context_source,\n",
    "                           base_image=BASE_IMAGE, \n",
    "                           push=True,\n",
    "                           namespace=MY_NAMESPACE,\n",
    "                           pod_spec_mutators=[gcp.add_gcp_credentials_if_exists])\n",
    "\n",
    "fairing.config.set_deployer(name='gcp', \n",
    "                            namespace=MY_NAMESPACE,\n",
    "                            pod_spec_mutators=[gcp.add_gcp_credentials_if_exists])\n",
    "\n",
    "fairing.config.run()"
   ]
  },
  {
   "cell_type": "markdown",
   "metadata": {},
   "source": [
    "## Deploy the training job to kubeflow cluster"
   ]
  },
  {
   "cell_type": "code",
   "execution_count": 12,
   "metadata": {},
   "outputs": [],
   "source": [
    "from kubeflow.fairing.builders.cluster import gcs_context\n",
    "context_source = gcs_context.GCSContextSource(gcp_project=GCP_PROJECT, namespace=MY_NAMESPACE)"
   ]
  },
  {
   "cell_type": "code",
   "execution_count": 14,
   "metadata": {
    "scrolled": false
   },
   "outputs": [
    {
     "name": "stderr",
     "output_type": "stream",
     "text": [
      "[I 200409 11:48:06 config:125] Using preprocessor: <kubeflow.fairing.preprocessors.base.BasePreProcessor object at 0x122d51eb8>\n",
      "[I 200409 11:48:06 config:127] Using builder: <kubeflow.fairing.builders.cluster.cluster.ClusterBuilder object at 0x122d51048>\n",
      "[I 200409 11:48:06 config:129] Using deployer: <kubeflow.fairing.deployers.job.job.Job object at 0x122d43630>\n",
      "[I 200409 11:48:06 cluster:46] Building image using cluster builder.\n",
      "[I 200409 11:48:06 base:107] Creating docker context: /tmp/fairing_context_aax8r5e3\n",
      "[W 200409 11:48:10 manager:296] Waiting for fairing-builder-fj7x2-42sr7 to start...\n",
      "[I 200409 11:48:12 manager:302] Pod started running True\n"
     ]
    },
    {
     "name": "stdout",
     "output_type": "stream",
     "text": [
      "ERROR: logging before flag.Parse: E0409 03:48:15.653275       1 metadata.go:241] Failed to unmarshal scopes: json: cannot unmarshal string into Go value of type []string\n",
      "\u001b[36mINFO\u001b[0m[0004] Resolved base name gcr.io/kubeflow-pipeline-fantasy/kubeflow-fairing-base:latest to gcr.io/kubeflow-pipeline-fantasy/kubeflow-fairing-base:latest\n",
      "\u001b[36mINFO\u001b[0m[0004] Resolved base name gcr.io/kubeflow-pipeline-fantasy/kubeflow-fairing-base:latest to gcr.io/kubeflow-pipeline-fantasy/kubeflow-fairing-base:latest\n",
      "\u001b[36mINFO\u001b[0m[0004] Downloading base image gcr.io/kubeflow-pipeline-fantasy/kubeflow-fairing-base:latest\n",
      "\u001b[36mINFO\u001b[0m[0004] Error while retrieving image from cache: getting file info: stat /cache/sha256:88c783033a077d26d0b09e8015ed6691d8568adcd46bd5abc470d0ad99d72e9a: no such file or directory\n",
      "\u001b[36mINFO\u001b[0m[0004] Downloading base image gcr.io/kubeflow-pipeline-fantasy/kubeflow-fairing-base:latest\n",
      "\u001b[36mINFO\u001b[0m[0005] Built cross stage deps: map[]\n",
      "\u001b[36mINFO\u001b[0m[0005] Downloading base image gcr.io/kubeflow-pipeline-fantasy/kubeflow-fairing-base:latest\n",
      "\u001b[36mINFO\u001b[0m[0005] Error while retrieving image from cache: getting file info: stat /cache/sha256:88c783033a077d26d0b09e8015ed6691d8568adcd46bd5abc470d0ad99d72e9a: no such file or directory\n",
      "\u001b[36mINFO\u001b[0m[0005] Downloading base image gcr.io/kubeflow-pipeline-fantasy/kubeflow-fairing-base:latest\n",
      "\u001b[36mINFO\u001b[0m[0005] Using files from context: [/kaniko/buildcontext/app/requirements.txt]\n",
      "\u001b[36mINFO\u001b[0m[0005] Checking for cached layer gcr.io/kubeflow-pipeline-fantasy/kubeflow-fairing-job-tf/fairing-job/cache:6db976d8c525c10070b0453ded79bf8ccd74188d438a4d9bfade1981017c1b01...\n",
      "\u001b[36mINFO\u001b[0m[0005] No cached layer found for cmd COPY /app//requirements.txt /app/\n",
      "\u001b[36mINFO\u001b[0m[0005] Unpacking rootfs as cmd COPY /app//requirements.txt /app/ requires it.\n",
      "\u001b[36mINFO\u001b[0m[0077] Taking snapshot of full filesystem...\n",
      "\u001b[36mINFO\u001b[0m[0102] WORKDIR /app/\n",
      "\u001b[36mINFO\u001b[0m[0102] cmd: workdir\n",
      "\u001b[36mINFO\u001b[0m[0102] Changed working directory to /app\n",
      "\u001b[36mINFO\u001b[0m[0102] No files changed in this command, skipping snapshotting.\n",
      "\u001b[36mINFO\u001b[0m[0102] ENV FAIRING_RUNTIME 1\n",
      "\u001b[36mINFO\u001b[0m[0102] No files changed in this command, skipping snapshotting.\n",
      "\u001b[36mINFO\u001b[0m[0102] Using files from context: [/kaniko/buildcontext/app/requirements.txt]\n",
      "\u001b[36mINFO\u001b[0m[0102] COPY /app//requirements.txt /app/\n",
      "\u001b[36mINFO\u001b[0m[0102] Taking snapshot of files...\n",
      "\u001b[36mINFO\u001b[0m[0102] RUN if [ -e requirements.txt ];then pip install --no-cache -r requirements.txt; fi\n",
      "\u001b[36mINFO\u001b[0m[0102] cmd: /bin/sh\n",
      "\u001b[36mINFO\u001b[0m[0102] args: [-c if [ -e requirements.txt ];then pip install --no-cache -r requirements.txt; fi]\n",
      "\u001b[36mINFO\u001b[0m[0102] Pushing layer gcr.io/kubeflow-pipeline-fantasy/kubeflow-fairing-job-tf/fairing-job/cache:6db976d8c525c10070b0453ded79bf8ccd74188d438a4d9bfade1981017c1b01 to cache now\n",
      "Requirement already satisfied: pandas in /usr/local/lib/python3.7/site-packages (from -r requirements.txt (line 1)) (1.0.3)\n",
      "Collecting gcsfs\n",
      "  Downloading gcsfs-0.6.1-py2.py3-none-any.whl (17 kB)\n",
      "Requirement already satisfied: joblib in /usr/local/lib/python3.7/site-packages (from -r requirements.txt (line 3)) (0.14.1)\n",
      "Requirement already satisfied: numpy in /usr/local/lib/python3.7/site-packages (from -r requirements.txt (line 4)) (1.18.2)\n",
      "Requirement already satisfied: tensorflow in /usr/local/lib/python3.7/site-packages (from -r requirements.txt (line 5)) (2.1.0)\n",
      "Requirement already satisfied: seldon-core in /usr/local/lib/python3.7/site-packages (from -r requirements.txt (line 6)) (1.0.2)\n",
      "Requirement already satisfied: xgboost==0.82 in /usr/local/lib/python3.7/site-packages (from -r requirements.txt (line 7)) (0.82)\n",
      "Requirement already satisfied: scikit-learn<0.22,>=0.21.0 in /usr/local/lib/python3.7/site-packages (from -r requirements.txt (line 8)) (0.21.3)\n",
      "Requirement already satisfied: tornado>=6.0.3 in /usr/local/lib/python3.7/site-packages (from -r requirements.txt (line 9)) (6.0.4)\n",
      "Collecting cloudpickle==1.1.1\n",
      "  Downloading cloudpickle-1.1.1-py2.py3-none-any.whl (17 kB)\n",
      "Requirement already satisfied: pytz>=2017.2 in /usr/local/lib/python3.7/site-packages (from pandas->-r requirements.txt (line 1)) (2019.3)\n",
      "Requirement already satisfied: python-dateutil>=2.6.1 in /usr/local/lib/python3.7/site-packages (from pandas->-r requirements.txt (line 1)) (2.8.1)\n",
      "Collecting decorator\n",
      "  Downloading decorator-4.4.2-py2.py3-none-any.whl (9.2 kB)\n",
      "Requirement already satisfied: google-auth>=1.2 in /usr/local/lib/python3.7/site-packages (from gcsfs->-r requirements.txt (line 2)) (1.13.1)\n",
      "Collecting fsspec>=0.6.0\n",
      "  Downloading fsspec-0.7.2-py3-none-any.whl (67 kB)\n",
      "Requirement already satisfied: google-auth-oauthlib in /usr/local/lib/python3.7/site-packages (from gcsfs->-r requirements.txt (line 2)) (0.4.1)\n",
      "Requirement already satisfied: requests in /usr/local/lib/python3.7/site-packages (from gcsfs->-r requirements.txt (line 2)) (2.23.0)\n",
      "Requirement already satisfied: absl-py>=0.7.0 in /usr/local/lib/python3.7/site-packages (from tensorflow->-r requirements.txt (line 5)) (0.9.0)\n",
      "Requirement already satisfied: astor>=0.6.0 in /usr/local/lib/python3.7/site-packages (from tensorflow->-r requirements.txt (line 5)) (0.8.1)\n",
      "Requirement already satisfied: opt-einsum>=2.3.2 in /usr/local/lib/python3.7/site-packages (from tensorflow->-r requirements.txt (line 5)) (3.2.0)\n",
      "Requirement already satisfied: protobuf>=3.8.0 in /usr/local/lib/python3.7/site-packages (from tensorflow->-r requirements.txt (line 5)) (3.11.3)\n",
      "Requirement already satisfied: six>=1.12.0 in /usr/local/lib/python3.7/site-packages (from tensorflow->-r requirements.txt (line 5)) (1.14.0)\n",
      "Requirement already satisfied: grpcio>=1.8.6 in /usr/local/lib/python3.7/site-packages (from tensorflow->-r requirements.txt (line 5)) (1.28.1)\n",
      "Requirement already satisfied: scipy==1.4.1; python_version >= \"3\" in /usr/local/lib/python3.7/site-packages (from tensorflow->-r requirements.txt (line 5)) (1.4.1)\n",
      "Requirement already satisfied: keras-preprocessing>=1.1.0 in /usr/local/lib/python3.7/site-packages (from tensorflow->-r requirements.txt (line 5)) (1.1.0)\n",
      "Requirement already satisfied: tensorboard<2.2.0,>=2.1.0 in /usr/local/lib/python3.7/site-packages (from tensorflow->-r requirements.txt (line 5)) (2.1.1)\n",
      "Requirement already satisfied: gast==0.2.2 in /usr/local/lib/python3.7/site-packages (from tensorflow->-r requirements.txt (line 5)) (0.2.2)\n",
      "Requirement already satisfied: wrapt>=1.11.1 in /usr/local/lib/python3.7/site-packages (from tensorflow->-r requirements.txt (line 5)) (1.12.1)\n",
      "Requirement already satisfied: wheel>=0.26; python_version >= \"3\" in /usr/local/lib/python3.7/site-packages (from tensorflow->-r requirements.txt (line 5)) (0.33.4)\n",
      "Requirement already satisfied: tensorflow-estimator<2.2.0,>=2.1.0rc0 in /usr/local/lib/python3.7/site-packages (from tensorflow->-r requirements.txt (line 5)) (2.1.0)\n",
      "Requirement already satisfied: termcolor>=1.1.0 in /usr/local/lib/python3.7/site-packages (from tensorflow->-r requirements.txt (line 5)) (1.1.0)\n",
      "Requirement already satisfied: keras-applications>=1.0.8 in /usr/local/lib/python3.7/site-packages (from tensorflow->-r requirements.txt (line 5)) (1.0.8)\n",
      "Requirement already satisfied: google-pasta>=0.1.6 in /usr/local/lib/python3.7/site-packages (from tensorflow->-r requirements.txt (line 5)) (0.2.0)\n",
      "Requirement already satisfied: redis<4.0.0 in /usr/local/lib/python3.7/site-packages (from seldon-core->-r requirements.txt (line 6)) (3.4.1)\n",
      "Requirement already satisfied: Flask-OpenTracing<1.2.0,>=1.1.0 in /usr/local/lib/python3.7/site-packages (from seldon-core->-r requirements.txt (line 6)) (1.1.0)\n",
      "Requirement already satisfied: Flask-cors<4.0.0 in /usr/local/lib/python3.7/site-packages (from seldon-core->-r requirements.txt (line 6)) (3.0.8)\n",
      "Requirement already satisfied: opentracing<2.3.0,>=2.2.0 in /usr/local/lib/python3.7/site-packages (from seldon-core->-r requirements.txt (line 6)) (2.2.0)\n",
      "Requirement already satisfied: gunicorn<20.1.0,>=19.9.0 in /usr/local/lib/python3.7/site-packages (from seldon-core->-r requirements.txt (line 6)) (20.0.4)\n",
      "Requirement already satisfied: flatbuffers<2.0.0 in /usr/local/lib/python3.7/site-packages (from seldon-core->-r requirements.txt (line 6)) (1.12)\n",
      "Requirement already satisfied: pyaml<20.0.0 in /usr/local/lib/python3.7/site-packages (from seldon-core->-r requirements.txt (line 6)) (19.12.0)\n",
      "Requirement already satisfied: jaeger-client<4.2.0,>=4.1.0 in /usr/local/lib/python3.7/site-packages (from seldon-core->-r requirements.txt (line 6)) (4.1.0)\n",
      "Requirement already satisfied: grpcio-opentracing<1.2.0,>=1.1.4 in /usr/local/lib/python3.7/site-packages (from seldon-core->-r requirements.txt (line 6)) (1.1.4)\n",
      "Requirement already satisfied: azure-storage-blob<3.0.0,>=2.0.1 in /usr/local/lib/python3.7/site-packages (from seldon-core->-r requirements.txt (line 6)) (2.1.0)\n",
      "Requirement already satisfied: setuptools>=41.0.0 in /usr/local/lib/python3.7/site-packages (from seldon-core->-r requirements.txt (line 6)) (41.0.1)\n",
      "Requirement already satisfied: minio<6.0.0,>=4.0.9 in /usr/local/lib/python3.7/site-packages (from seldon-core->-r requirements.txt (line 6)) (5.0.8)\n",
      "Requirement already satisfied: Flask<2.0.0 in /usr/local/lib/python3.7/site-packages (from seldon-core->-r requirements.txt (line 6)) (1.1.2)\n"
     ]
    },
    {
     "name": "stdout",
     "output_type": "stream",
     "text": [
      "Requirement already satisfied: rsa<4.1,>=3.1.4 in /usr/local/lib/python3.7/site-packages (from google-auth>=1.2->gcsfs->-r requirements.txt (line 2)) (4.0)\n",
      "Requirement already satisfied: cachetools<5.0,>=2.0.0 in /usr/local/lib/python3.7/site-packages (from google-auth>=1.2->gcsfs->-r requirements.txt (line 2)) (4.1.0)\n",
      "Requirement already satisfied: pyasn1-modules>=0.2.1 in /usr/local/lib/python3.7/site-packages (from google-auth>=1.2->gcsfs->-r requirements.txt (line 2)) (0.2.8)\n",
      "Requirement already satisfied: requests-oauthlib>=0.7.0 in /usr/local/lib/python3.7/site-packages (from google-auth-oauthlib->gcsfs->-r requirements.txt (line 2)) (1.3.0)\n",
      "Requirement already satisfied: certifi>=2017.4.17 in /usr/local/lib/python3.7/site-packages (from requests->gcsfs->-r requirements.txt (line 2)) (2020.4.5.1)\n",
      "Requirement already satisfied: chardet<4,>=3.0.2 in /usr/local/lib/python3.7/site-packages (from requests->gcsfs->-r requirements.txt (line 2)) (3.0.4)\n",
      "Requirement already satisfied: urllib3!=1.25.0,!=1.25.1,<1.26,>=1.21.1 in /usr/local/lib/python3.7/site-packages (from requests->gcsfs->-r requirements.txt (line 2)) (1.25.8)\n",
      "Requirement already satisfied: idna<3,>=2.5 in /usr/local/lib/python3.7/site-packages (from requests->gcsfs->-r requirements.txt (line 2)) (2.9)\n",
      "Requirement already satisfied: werkzeug>=0.11.15 in /usr/local/lib/python3.7/site-packages (from tensorboard<2.2.0,>=2.1.0->tensorflow->-r requirements.txt (line 5)) (1.0.1)\n",
      "Requirement already satisfied: markdown>=2.6.8 in /usr/local/lib/python3.7/site-packages (from tensorboard<2.2.0,>=2.1.0->tensorflow->-r requirements.txt (line 5)) (3.2.1)\n",
      "Requirement already satisfied: h5py in /usr/local/lib/python3.7/site-packages (from keras-applications>=1.0.8->tensorflow->-r requirements.txt (line 5)) (2.10.0)\n",
      "Requirement already satisfied: PyYAML in /usr/local/lib/python3.7/site-packages (from pyaml<20.0.0->seldon-core->-r requirements.txt (line 6)) (5.3.1)\n",
      "Requirement already satisfied: threadloop<2,>=1 in /usr/local/lib/python3.7/site-packages (from jaeger-client<4.2.0,>=4.1.0->seldon-core->-r requirements.txt (line 6)) (1.0.2)\n",
      "Requirement already satisfied: thrift in /usr/local/lib/python3.7/site-packages (from jaeger-client<4.2.0,>=4.1.0->seldon-core->-r requirements.txt (line 6)) (0.13.0)\n",
      "Requirement already satisfied: azure-storage-common~=2.1 in /usr/local/lib/python3.7/site-packages (from azure-storage-blob<3.0.0,>=2.0.1->seldon-core->-r requirements.txt (line 6)) (2.1.0)\n",
      "Requirement already satisfied: azure-common>=1.1.5 in /usr/local/lib/python3.7/site-packages (from azure-storage-blob<3.0.0,>=2.0.1->seldon-core->-r requirements.txt (line 6)) (1.1.25)\n",
      "Requirement already satisfied: configparser in /usr/local/lib/python3.7/site-packages (from minio<6.0.0,>=4.0.9->seldon-core->-r requirements.txt (line 6)) (5.0.0)\n",
      "Requirement already satisfied: itsdangerous>=0.24 in /usr/local/lib/python3.7/site-packages (from Flask<2.0.0->seldon-core->-r requirements.txt (line 6)) (1.1.0)\n",
      "Requirement already satisfied: click>=5.1 in /usr/local/lib/python3.7/site-packages (from Flask<2.0.0->seldon-core->-r requirements.txt (line 6)) (7.1.1)\n",
      "Requirement already satisfied: Jinja2>=2.10.1 in /usr/local/lib/python3.7/site-packages (from Flask<2.0.0->seldon-core->-r requirements.txt (line 6)) (2.11.1)\n",
      "Requirement already satisfied: pyasn1>=0.1.3 in /usr/local/lib/python3.7/site-packages (from rsa<4.1,>=3.1.4->google-auth>=1.2->gcsfs->-r requirements.txt (line 2)) (0.4.8)\n",
      "Requirement already satisfied: oauthlib>=3.0.0 in /usr/local/lib/python3.7/site-packages (from requests-oauthlib>=0.7.0->google-auth-oauthlib->gcsfs->-r requirements.txt (line 2)) (3.1.0)\n",
      "Requirement already satisfied: cryptography in /usr/local/lib/python3.7/site-packages (from azure-storage-common~=2.1->azure-storage-blob<3.0.0,>=2.0.1->seldon-core->-r requirements.txt (line 6)) (2.9)\n",
      "Requirement already satisfied: MarkupSafe>=0.23 in /usr/local/lib/python3.7/site-packages (from Jinja2>=2.10.1->Flask<2.0.0->seldon-core->-r requirements.txt (line 6)) (1.1.1)\n",
      "Requirement already satisfied: cffi!=1.11.3,>=1.8 in /usr/local/lib/python3.7/site-packages (from cryptography->azure-storage-common~=2.1->azure-storage-blob<3.0.0,>=2.0.1->seldon-core->-r requirements.txt (line 6)) (1.14.0)\n",
      "Requirement already satisfied: pycparser in /usr/local/lib/python3.7/site-packages (from cffi!=1.11.3,>=1.8->cryptography->azure-storage-common~=2.1->azure-storage-blob<3.0.0,>=2.0.1->seldon-core->-r requirements.txt (line 6)) (2.20)\n",
      "Installing collected packages: decorator, fsspec, gcsfs, cloudpickle\n",
      "  Attempting uninstall: cloudpickle\n",
      "    Found existing installation: cloudpickle 1.2.2\n",
      "    Uninstalling cloudpickle-1.2.2:\n",
      "      Successfully uninstalled cloudpickle-1.2.2\n",
      "Successfully installed cloudpickle-1.1.1 decorator-4.4.2 fsspec-0.7.2 gcsfs-0.6.1\n",
      "\u001b[36mINFO\u001b[0m[0105] Taking snapshot of full filesystem...\n",
      "\u001b[36mINFO\u001b[0m[0106] Adding whiteout for /usr/local/lib/python3.7/site-packages/cloudpickle/cloudpickle_fast.py\n",
      "\u001b[36mINFO\u001b[0m[0106] Adding whiteout for /usr/local/lib/python3.7/site-packages/cloudpickle-1.2.2.dist-info\n",
      "\u001b[36mINFO\u001b[0m[0106] Adding whiteout for /usr/local/lib/python3.7/site-packages/cloudpickle/__pycache__/cloudpickle_fast.cpython-37.pyc\n",
      "\u001b[36mINFO\u001b[0m[0111] Using files from context: [/kaniko/buildcontext/app]\n",
      "\u001b[36mINFO\u001b[0m[0111] Pushing layer gcr.io/kubeflow-pipeline-fantasy/kubeflow-fairing-job-tf/fairing-job/cache:24ab49b363b09bd7815ef8451a5c56e65ee516a127c90d579b87287378046049 to cache now\n",
      "\u001b[36mINFO\u001b[0m[0111] COPY /app/ /app/\n",
      "\u001b[36mINFO\u001b[0m[0111] Taking snapshot of files...\n",
      "\u001b[36mINFO\u001b[0m[0111] Pushing layer gcr.io/kubeflow-pipeline-fantasy/kubeflow-fairing-job-tf/fairing-job/cache:544facb961abddb28c86827fd035818b002a715303e6e8ce079f7c6912d98d78 to cache now\n"
     ]
    },
    {
     "name": "stderr",
     "output_type": "stream",
     "text": [
      "[W 200409 11:50:11 job:101] The job fairing-job-xzmhl launched.\n",
      "[W 200409 11:50:11 manager:296] Waiting for fairing-job-xzmhl-mn64g to start...\n",
      "[I 200409 11:50:18 manager:302] Pod started running True\n"
     ]
    },
    {
     "name": "stdout",
     "output_type": "stream",
     "text": [
      "2020-04-09 03:50:23.036571: W tensorflow/stream_executor/platform/default/dso_loader.cc:55] Could not load dynamic library 'libnvinfer.so.6'; dlerror: libnvinfer.so.6: cannot open shared object file: No such file or directory\n",
      "2020-04-09 03:50:23.036917: W tensorflow/stream_executor/platform/default/dso_loader.cc:55] Could not load dynamic library 'libnvinfer_plugin.so.6'; dlerror: libnvinfer_plugin.so.6: cannot open shared object file: No such file or directory\n",
      "2020-04-09 03:50:23.036948: W tensorflow/compiler/tf2tensorrt/utils/py_utils.cc:30] Cannot dlopen some TensorRT libraries. If you would like to use Nvidia GPU with TensorRT, please make sure the missing libraries mentioned above are installed properly.\n",
      "Traceback (most recent call last):\n",
      "  File \"/app/model.py\", line 240, in <module>\n",
      "    tf.app.run()\n",
      "AttributeError: module 'tensorflow' has no attribute 'app'\n"
     ]
    },
    {
     "name": "stderr",
     "output_type": "stream",
     "text": [
      "[W 200409 11:50:29 job:173] Cleaning up job fairing-job-xzmhl...\n"
     ]
    },
    {
     "data": {
      "text/plain": [
       "(<kubeflow.fairing.preprocessors.base.BasePreProcessor at 0x122d51eb8>,\n",
       " <kubeflow.fairing.builders.cluster.cluster.ClusterBuilder at 0x122d51048>,\n",
       " <kubeflow.fairing.deployers.job.job.Job at 0x122d43630>)"
      ]
     },
     "execution_count": 14,
     "metadata": {},
     "output_type": "execute_result"
    }
   ],
   "source": [
    "fairing.config.set_preprocessor('python', \n",
    "                                executable=file_name, \n",
    "                                input_files=[file_name, 'requirements.txt'])\n",
    "\n",
    "fairing.config.set_builder(name='cluster', \n",
    "                           registry=DOCKER_REGISTRY, \n",
    "                           context_source=context_source,\n",
    "                           base_image=BASE_IMAGE, \n",
    "                           push=True,\n",
    "                           namespace=MY_NAMESPACE,\n",
    "                           pod_spec_mutators=[gcp.add_gcp_credentials_if_exists])\n",
    "\n",
    "fairing.config.set_deployer(name='job', \n",
    "                            namespace=MY_NAMESPACE,\n",
    "                            pod_spec_mutators=[gcp.add_gcp_credentials_if_exists])\n",
    "\n",
    "fairing.config.run()"
   ]
  },
  {
   "cell_type": "code",
   "execution_count": null,
   "metadata": {},
   "outputs": [],
   "source": []
  }
 ],
 "metadata": {
  "kernelspec": {
   "display_name": "virtualPython37Fairing",
   "language": "python",
   "name": "virtualpython37fairing"
  },
  "language_info": {
   "codemirror_mode": {
    "name": "ipython",
    "version": 3
   },
   "file_extension": ".py",
   "mimetype": "text/x-python",
   "name": "python",
   "nbconvert_exporter": "python",
   "pygments_lexer": "ipython3",
   "version": "3.7.3"
  }
 },
 "nbformat": 4,
 "nbformat_minor": 2
}
