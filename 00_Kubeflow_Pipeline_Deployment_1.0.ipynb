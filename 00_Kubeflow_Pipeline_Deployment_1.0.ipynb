{
 "cells": [
  {
   "cell_type": "code",
   "execution_count": null,
   "metadata": {},
   "outputs": [],
   "source": [
    "# Copyright 2019 Google Inc. All Rights Reserved.\n",
    "#\n",
    "# Licensed under the Apache License, Version 2.0 (the \"License\");\n",
    "# you may not use this file except in compliance with the License.\n",
    "# You may obtain a copy of the License at\n",
    "#\n",
    "#      http://www.apache.org/licenses/LICENSE-2.0\n",
    "#\n",
    "# Unless required by applicable law or agreed to in writing, software\n",
    "# distributed under the License is distributed on an \"AS IS\" BASIS,\n",
    "# WITHOUT WARRANTIES OR CONDITIONS OF ANY KIND, either express or implied.\n",
    "# See the License for the specific language governing permissions and\n",
    "# limitations under the License.\n",
    "# =============================================================================="
   ]
  },
  {
   "cell_type": "markdown",
   "metadata": {},
   "source": [
    "# Deploying a Kubeflow Pipeline on Google Cloud Platform (GCP)"
   ]
  },
  {
   "cell_type": "markdown",
   "metadata": {},
   "source": [
    "## Choosing an installation option\n",
    "\n",
    "1. Do you want to use other Kubeflow components in addition to Pipelines?\n",
    "\n",
    "    If yes, choose the [full Kubeflow deployment](https://www.kubeflow.org/docs/gke/deploy/).\n",
    "1. Do you want to use Kubeflow Pipelines with [multi-user support](https://github.com/kubeflow/pipelines/issues/1223)?\n",
    "\n",
    "    If yes, choose the [full Kubeflow deployment](https://www.kubeflow.org/docs/gke/deploy//) with version >= v1.1.\n",
    "1. Do you deploy on Google Cloud?\n",
    "\n",
    "    If yes, deploy [Kubeflow Pipelines Standalone](https://www.kubeflow.org/docs/pipelines/installation/standalone-deployment). You can also\n",
    "    use [Google Cloud AI Platform Pipelines](https://cloud.google.com/ai-platform/pipelines/docs/setting-up) to deploy Kubeflow Pipelines\n",
    "    using a user interface, but there are limitations in\n",
    "    customizability and upgradability. For details, please read corresponding\n",
    "    sections.\n",
    "1. You deploy on other platforms.\n",
    "\n",
    "    Please compare your platform specific [full Kubeflow](https://www.kubeflow.org/docs/gke/deploy/) with the\n",
    "    [Kubeflow Pipelines Standalone](https://www.kubeflow.org/docs/pipelines/installation/standalone-deployment) before making your decision."
   ]
  },
  {
   "cell_type": "markdown",
   "metadata": {},
   "source": [
    "**In the following, we will demonstrate [Standalone deployment](https://www.kubeflow.org/docs/pipelines/installation/standalone-deployment/) on GCP**\n",
    "\n",
    "To deploy Kubeflow Pipelines, you must be granted the `Viewer (roles/viewer)` and `Kubernetes Engine Admin (roles/container.admin)` roles on the project. The `Viewer` role provides read access to all resources within a project. The `Kubernetes Engine Admin` role provides full access to Kubernetes clusters and Kubernetes API objects."
   ]
  },
  {
   "cell_type": "markdown",
   "metadata": {},
   "source": [
    "## Set up environment variables\n",
    "Set up environment variables to use while installing Kubeflow. Replace variable placeholders (for example, `<VARIABLE NAME>`) with the correct values for your environment."
   ]
  },
  {
   "cell_type": "code",
   "execution_count": null,
   "metadata": {},
   "outputs": [],
   "source": [
    "# Set your GCP project ID and the zone where you want to create the Kubeflow deployment\n",
    "%env PROJECT=kubeflow-pipeline-fantasy\n",
    "%env ZONE=asia-southeast1-c\n",
    "\n",
    "%env CLUSTER_NAME=deploy-kfp\n",
    "\n",
    "%env MACHINE_TYPE=n1-standard-2\n",
    "\n",
    "# Warning: Using SCOPES=\"cloud-platform\" grants all GCP permissions to the cluster. \n",
    "# For a more secure cluster setup, refer to Authenticating Pipelines to GCP.\n",
    "%env SCOPES=cloud-platform\n",
    "\n",
    "%env PIPELINE_VERSION=1.0.3"
   ]
  },
  {
   "cell_type": "markdown",
   "metadata": {},
   "source": [
    "If you have an existing Kubernetes cluster, skip the below cell. For more detail, see the GKE guide to [creating a cluster](https://cloud.google.com/kubernetes-engine/docs/how-to/creating-a-cluster) for Google Cloud Platform (GCP)."
   ]
  },
  {
   "cell_type": "code",
   "execution_count": null,
   "metadata": {},
   "outputs": [],
   "source": [
    "! gcloud container clusters create ${CLUSTER_NAME} \\\n",
    "     --zone ${ZONE} \\\n",
    "     --machine-type ${MACHINE_TYPE} \\\n",
    "     --scopes ${SCOPES}"
   ]
  },
  {
   "cell_type": "markdown",
   "metadata": {},
   "source": [
    "## Deploying Kubeflow Pipelines"
   ]
  },
  {
   "cell_type": "code",
   "execution_count": null,
   "metadata": {},
   "outputs": [],
   "source": [
    "! kubectl apply -k \"github.com/kubeflow/pipelines/manifests/kustomize/cluster-scoped-resources?ref=$PIPELINE_VERSION\"\n",
    "\n",
    "! kubectl wait --for condition=established --timeout=60s crd/applications.app.k8s.io\n",
    "\n",
    "! kubectl apply -k \"github.com/kubeflow/pipelines/manifests/kustomize/env/dev?ref=$PIPELINE_VERSION\""
   ]
  },
  {
   "cell_type": "markdown",
   "metadata": {},
   "source": [
    "## Get the public URL for the Kubeflow Pipelines UI"
   ]
  },
  {
   "cell_type": "code",
   "execution_count": null,
   "metadata": {},
   "outputs": [],
   "source": [
    "! kubectl describe configmap inverse-proxy-config -n kubeflow | grep googleusercontent.com"
   ]
  },
  {
   "cell_type": "markdown",
   "metadata": {},
   "source": [
    "You may also access the [pipelines dashboard](https://console.cloud.google.com/ai-platform/pipelines/clusters) by opening AI Platform Pipelines in the Cloud Console."
   ]
  },
  {
   "cell_type": "code",
   "execution_count": null,
   "metadata": {},
   "outputs": [],
   "source": []
  },
  {
   "cell_type": "code",
   "execution_count": null,
   "metadata": {},
   "outputs": [],
   "source": []
  }
 ],
 "metadata": {
  "environment": {
   "name": "tf2-gpu.2-1.m50",
   "type": "gcloud",
   "uri": "gcr.io/deeplearning-platform-release/tf2-gpu.2-1:m50"
  },
  "kernelspec": {
   "display_name": "Python 3",
   "language": "python",
   "name": "python3"
  },
  "language_info": {
   "codemirror_mode": {
    "name": "ipython",
    "version": 3
   },
   "file_extension": ".py",
   "mimetype": "text/x-python",
   "name": "python",
   "nbconvert_exporter": "python",
   "pygments_lexer": "ipython3",
   "version": "3.7.6"
  }
 },
 "nbformat": 4,
 "nbformat_minor": 4
}
