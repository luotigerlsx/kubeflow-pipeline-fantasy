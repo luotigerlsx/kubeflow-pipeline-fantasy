{
 "cells": [
  {
   "cell_type": "code",
   "execution_count": null,
   "metadata": {},
   "outputs": [],
   "source": [
    "# Copyright 2019 Google Inc. All Rights Reserved.\n",
    "#\n",
    "# Licensed under the Apache License, Version 2.0 (the \"License\");\n",
    "# you may not use this file except in compliance with the License.\n",
    "# You may obtain a copy of the License at\n",
    "#\n",
    "#            http://www.apache.org/licenses/LICENSE-2.0\n",
    "#\n",
    "# Unless required by applicable law or agreed to in writing, software\n",
    "# distributed under the License is distributed on an \"AS IS\" BASIS,\n",
    "# WITHOUT WARRANTIES OR CONDITIONS OF ANY KIND, either express or implied.\n",
    "# See the License for the specific language governing permissions and\n",
    "# limitations under the License."
   ]
  },
  {
   "cell_type": "code",
   "execution_count": null,
   "metadata": {},
   "outputs": [],
   "source": [
    "# This notebook is largely based on that from https://github.com/jarokaz/mlops-labs\n",
    "# TODO: Update the kfp to latest version"
   ]
  },
  {
   "cell_type": "markdown",
   "metadata": {},
   "source": [
    "# Orchestrating AutoML Tables training and deployment with Kubeflow Pipelines"
   ]
  },
  {
   "cell_type": "markdown",
   "metadata": {},
   "source": [
    "In this lab you develop a continous training and deployment pipeline using Kubeflow Pipelines, BigQuery and AutoML Tables.\n",
    "\n",
    "The scenario used in the lab is  predicting customer lifetime value (CLV).\n",
    "\n",
    "The goal of CLV modeling is to identify the most valuable customers - customers that are going to generate the highest value in a given future time range. The CLV models are built from a variety of data sources - historical sales data being the most important one and in many cases the only one. \n",
    "\n",
    "Predicting Customer Lifetime Value (CLV)  is a representative example of a use case where you may need to fine-tune and re-train a predictive model on a frequent basis. As there is a constant flow of new sales transactions that constitute the core of training data, models have to be kept up to date with evolving purchase patterns. Automation of model training and deployment is critical. \n",
    "\n",
    "In the CLV model developed in this lab, the historical sales transactions are preprocessed and aggregated to engineer a set of latent features  representing the so-called RFM characteristics of your customers:\n",
    "- Recency: How active have they been recently?\n",
    "- Frequency: How often do they buy?\n",
    "- Monetary: What amount do they spend?\n",
    "\n",
    "The following diagram shows a succession of past sales for a set of four customers.\n",
    "\n",
    "![clv_timeline](../images/clv-timeline.png)\n",
    "\n",
    "The diagram illustrates the RFM values for the customers, showing for each customer:\n",
    "- Recency: The time between the last purchase and today, represented by the distance between the leftmost circle and the vertical dotted line that's labeled **Now**.\n",
    "- Frequency: The time between purchaes, represented by the distance between the circles on a single line.\n",
    "- Monetary: The amount of money spent on each purchase, represented by the size of the circle.\n",
    "\n",
    "As demonstrated in the lab you usually create multiple features per each characteristic. For example, in the lab, Recency is captured by two features: *recency* and *T*.\n",
    "\n",
    "The RFM input features and the target label are engineered using the following process:\n",
    "- A time series of of historical sales transactions for a given customer is divided into two time periods: *the features period* and *the predict period*. A point in time that is used to divide the time series is referred two as *the threshold date*. \n",
    "- The transactions in *the features period* are aggregated to create the latent RFM input features \n",
    "- The transactions in *the predict period* are aggregated to calculate the target label representing the expected total value of the customer\n",
    "\n",
    "This process results in a single example per customer and a set of examples across a customer population constitutes a training set.\n",
    "\n",
    "The pipeline implemented in the lab, uses BigQuery as a source of historical sales transactions. BigQuery is also used to engineer RFM features. The model is then trained and deployed using AutoML Tables. The below diagram represents the control and data flow implemented by the pipeline.\n",
    "\n",
    "\n",
    "![Training pipeline](../images/clv_train.png)\n",
    "\n",
    "1. The BQ query is run to process sales transactions in the *transactions* table into RFM features in the *features* table. \n",
    "1. The data from the *features* table is imported into the AutoML dataset\n",
    "1. The AutoML model is trained on the imported dataset\n",
    "1. After the training completes the evaluation metrics are retrieved and compared against the performance threshold\n",
    "1. If the model performs better than the threshold the model is deployed to AutoML Deployment\n",
    "\n",
    "The sample dataset used in the lab is based on the publicaly available [Online Retail Data Set](http://archive.ics.uci.edu/ml/datasets/Online+Retail) from the UCI Machine Learning Repository. The original dataset was preprocessed to conform to the following schema:\n",
    "\n",
    "| Field | Type | Description |\n",
    "|-------|------|-------------|\n",
    "| customer_id | string | A unique customer ID |\n",
    "| order_date | date (yyyy-MM-dd) | The date of a transaction. Transactions (potentially from multiple invoices) are grouped by day |\n",
    "| quantity | integer | A number of items of a single SKU in a transaction |\n",
    "| unit_price | float | A unit price of a SKU |\n",
    "\n",
    "The feature engineering query generates the features table with the below schema. \n",
    "\n",
    "\n",
    "| Field | Type | Description |\n",
    "|-------|------|-------------|\n",
    "| monetary | Float | The total spend by a customer in the features period|\n",
    "| frequency | Integer | The number of transactions placed by a customer in the features period |\n",
    "| recency | Integer |  The time (in days) between the first and the last orders in the features period |\n",
    "| T | Integer | The time between the first order placed and in the threshold date|\n",
    "| time_between | Float |  The average time betwee orders in the features period |\n",
    "| avg_basket_value | Float |  The averate monetary value of the customer's basket in the features period |\n",
    "| avg_basket_size | Float |  The average number of items in a basket in the features perio|\n",
    "| cnt_returns | Integer |  The number of returns in the features period|\n",
    "| target_monetary | Float | The total amount spent in the predict period. This is the label for predictions|\n",
    "\n",
    "\n",
    "\n"
   ]
  },
  {
   "cell_type": "markdown",
   "metadata": {},
   "source": [
    "## Prepare lab environment\n",
    "Let's start with configuring your GCP environment settings and uploading the sales transactions into BigQuery."
   ]
  },
  {
   "cell_type": "code",
   "execution_count": null,
   "metadata": {},
   "outputs": [],
   "source": [
    "from typing import NamedTuple\n",
    "\n",
    "import kfp\n",
    "import kfp.components as comp\n",
    "\n",
    "from google.cloud import bigquery\n",
    "\n",
    "from jinja2 import Template\n",
    "\n",
    "%load_ext google.cloud.bigquery"
   ]
  },
  {
   "cell_type": "code",
   "execution_count": null,
   "metadata": {},
   "outputs": [],
   "source": [
    "import os\n",
    "# Service account to access the Kubeflow pipeline service\n",
    "os.environ['GOOGLE_APPLICATION_CREDENTIALS'] = './config/kubeflow-pipeline-fantasy.json'"
   ]
  },
  {
   "cell_type": "code",
   "execution_count": null,
   "metadata": {},
   "outputs": [],
   "source": [
    "# ! gcloud services enable automl.googleapis.com"
   ]
  },
  {
   "cell_type": "code",
   "execution_count": null,
   "metadata": {},
   "outputs": [],
   "source": [
    "# Add Automl permission to \"Service Account used for Kubeflow user actions.\""
   ]
  },
  {
   "cell_type": "markdown",
   "metadata": {},
   "source": [
    "### Set lab settings\n",
    "Make sure to update the following values with you environment settings."
   ]
  },
  {
   "cell_type": "code",
   "execution_count": null,
   "metadata": {},
   "outputs": [],
   "source": [
    "PROJECT_ID = 'kubeflow-pipeline-fantasy'\n",
    "GCS_BUCKET='gs://kubeflow-pipeline-ui'"
   ]
  },
  {
   "cell_type": "code",
   "execution_count": null,
   "metadata": {},
   "outputs": [],
   "source": [
    "DATASET_LOCATION = 'US'\n",
    "DATASET_ID = 'lab_automl'\n",
    "TRANSACTIONS_TABLE_ID = 'transactions'\n",
    "TRANSACTIONS_TABLE_SCHEMA = 'customer_id:STRING,order_date:DATE,quantity:INTEGER,unit_price:FLOAT'\n",
    "# This link is public accessable\n",
    "TRANSACTIONS_SOURCE_FILE='gs://kubeflow-pipeline-ui/cl_data/transactions.csv'\n",
    "COMPONENT_URL_SEARCH_PREFIX = 'https://raw.githubusercontent.com/kubeflow/pipelines/0.1.36/components/gcp/'"
   ]
  },
  {
   "cell_type": "code",
   "execution_count": null,
   "metadata": {},
   "outputs": [],
   "source": [
    "# Optional Parameters, but required for running outside Kubeflow cluster\n",
    "\n",
    "# # The host for full deployment of Kubeflow ends with '/pipeline'\n",
    "# HOST = ''\n",
    "# # Full deployment of Kubeflow on GCP is usually protected through IAP, therefore the following \n",
    "# # will be needed to access the endpoint\n",
    "# CLIENT_ID = ''\n",
    "# OTHER_CLIENT_ID = ''\n",
    "# OTHER_CLIENT_SECRET = ''\n",
    "\n",
    "# The host for managed 'AI Platform Pipeline' ends with 'pipelines.googleusercontent.com'\n",
    "HOST = 'https://69a95965149a4145-dot-asia-east1.pipelines.googleusercontent.com'"
   ]
  },
  {
   "cell_type": "code",
   "execution_count": null,
   "metadata": {},
   "outputs": [],
   "source": [
    "# This is to ensure the proper access token is present to reach the end point for managed 'AI Platform Pipeline'\n",
    "# If you are not working with managed 'AI Platform Pipeline', this step is not necessary\n",
    "! gcloud auth print-access-token"
   ]
  },
  {
   "cell_type": "code",
   "execution_count": null,
   "metadata": {},
   "outputs": [],
   "source": [
    "# Create kfp client\n",
    "in_cluster = True\n",
    "try:\n",
    "  k8s.config.load_incluster_config()\n",
    "except:\n",
    "  in_cluster = False\n",
    "  pass\n",
    "\n",
    "if in_cluster:\n",
    "    client = kfp.Client()\n",
    "else:\n",
    "    if HOST.endswith('googleusercontent.com'):\n",
    "        CLIENT_ID = None\n",
    "        OTHER_CLIENT_ID = None\n",
    "        OTHER_CLIENT_SECRET = None\n",
    "\n",
    "    client = kfp.Client(host=HOST, \n",
    "                        client_id=CLIENT_ID,\n",
    "                        other_client_id=OTHER_CLIENT_ID, \n",
    "                        other_client_secret=OTHER_CLIENT_SECRET)"
   ]
  },
  {
   "cell_type": "markdown",
   "metadata": {},
   "source": [
    "### Create a BigQuery dataset"
   ]
  },
  {
   "cell_type": "code",
   "execution_count": null,
   "metadata": {},
   "outputs": [],
   "source": [
    "!bq --location=$DATASET_LOCATION --project_id=$PROJECT_ID mk --dataset $DATASET_ID"
   ]
  },
  {
   "cell_type": "markdown",
   "metadata": {},
   "source": [
    "### Load sale transactions data to BigQuery"
   ]
  },
  {
   "cell_type": "code",
   "execution_count": null,
   "metadata": {},
   "outputs": [],
   "source": [
    "!bq --project_id=$PROJECT_ID --dataset_id=$DATASET_ID load \\\n",
    "--source_format=CSV \\\n",
    "--skip_leading_rows=1 \\\n",
    "--replace \\\n",
    "$TRANSACTIONS_TABLE_ID \\\n",
    "$TRANSACTIONS_SOURCE_FILE \\\n",
    "$TRANSACTIONS_TABLE_SCHEMA"
   ]
  },
  {
   "cell_type": "markdown",
   "metadata": {},
   "source": [
    "### Explore the dataset\n",
    "To query data in BigQuery you can use BigQuery Python client library ...."
   ]
  },
  {
   "cell_type": "code",
   "execution_count": null,
   "metadata": {},
   "outputs": [],
   "source": [
    "bq_client = bigquery.Client()"
   ]
  },
  {
   "cell_type": "code",
   "execution_count": null,
   "metadata": {},
   "outputs": [],
   "source": [
    "query_template = \"\"\"\n",
    "SELECT *\n",
    "FROM `{{ source_table }}`\n",
    "LIMIT 100\n",
    "\"\"\"\n",
    "\n",
    "query = Template(query_template).render(\n",
    "    source_table='{}.{}.{}'.format(PROJECT_ID, DATASET_ID, TRANSACTIONS_TABLE_ID))\n",
    "\n",
    "df = bq_client.query(query).to_dataframe()\n",
    "df.head(10)"
   ]
  },
  {
   "cell_type": "markdown",
   "metadata": {},
   "source": [
    "... or Jupyter the `%%bigquery` magic"
   ]
  },
  {
   "cell_type": "code",
   "execution_count": null,
   "metadata": {},
   "outputs": [],
   "source": [
    "%%bigquery --project $PROJECT_ID\n",
    "SELECT *\n",
    "FROM `lab_automl.transactions`\n",
    "WHERE customer_id='16553'"
   ]
  },
  {
   "cell_type": "markdown",
   "metadata": {},
   "source": [
    "As you can see there are multiple sales transactions per customer. They represent the purchasing history and behavior of a given customer. For example, \n",
    "the customer identified by 16553 has 85 orders. Most of them are new purchases. Some of them are returns - the records with a negative quantity.\n",
    "\n",
    "The feature engineering query converts these 85 records into a single record representing the RFM charateristics of this customer."
   ]
  },
  {
   "cell_type": "markdown",
   "metadata": {},
   "source": [
    "## Create the KFP training pipeline"
   ]
  },
  {
   "cell_type": "markdown",
   "metadata": {},
   "source": [
    "### Create component factories for the pre-defined GCP components"
   ]
  },
  {
   "cell_type": "code",
   "execution_count": null,
   "metadata": {},
   "outputs": [],
   "source": [
    "component_store = kfp.components.ComponentStore(\n",
    "    local_search_paths=None,\n",
    "    url_search_prefixes=[COMPONENT_URL_SEARCH_PREFIX])\n",
    "    \n",
    "automl_create_dataset_op = component_store.load_component('automl/create_dataset_for_tables')\n",
    "automl_import_data_from_bq_op = component_store.load_component('automl/import_data_from_bigquery')\n",
    "automl_create_model__op = component_store.load_component('automl/create_model_for_tables')\n",
    "automl_split_dataset_table_column_names_op = component_store.load_component('automl/split_dataset_table_column_names')"
   ]
  },
  {
   "cell_type": "markdown",
   "metadata": {},
   "source": [
    "### Create custom components"
   ]
  },
  {
   "cell_type": "markdown",
   "metadata": {},
   "source": [
    "#### Create a base docker image for the custom components"
   ]
  },
  {
   "cell_type": "code",
   "execution_count": null,
   "metadata": {},
   "outputs": [],
   "source": [
    "%%writefile Dockerfile\n",
    "FROM python:3.7\n",
    "RUN pip3 install google-cloud-bigquery==1.24.0 google-api-core==1.16.0 google-cloud-automl==0.10.0 grpcio==1.27.2 google-cloud-core==1.3.0"
   ]
  },
  {
   "cell_type": "code",
   "execution_count": null,
   "metadata": {},
   "outputs": [],
   "source": [
    "IMAGE_NAME=\"lab_automl_components\"\n",
    "IMAGE_URI=\"gcr.io/{}/{}:latest\".format(PROJECT_ID, IMAGE_NAME)"
   ]
  },
  {
   "cell_type": "code",
   "execution_count": null,
   "metadata": {},
   "outputs": [],
   "source": [
    "import subprocess\n",
    "# ! gcloud builds submit --tag ${IMAGE_NAME} ${APP_FOLDER}\n",
    "cmd = ['gcloud', 'builds', 'submit', '--tag', IMAGE_URI, '.']\n",
    "build_log = (subprocess.run(cmd, stdout=subprocess.PIPE).stdout[:-1].decode('utf-8'))\n",
    "print(build_log)\n",
    "\n",
    "import re\n",
    "m = re.search(r'latest: digest: sha256:.* size', build_log)\n",
    "digest = m.group(0).split(' ')[2]\n",
    "\n",
    "image_full_uri = \"gcr.io/{}/{}@{}\".format(PROJECT_ID, IMAGE_NAME, digest)"
   ]
  },
  {
   "cell_type": "markdown",
   "metadata": {},
   "source": [
    "#### Create BQ query component"
   ]
  },
  {
   "cell_type": "code",
   "execution_count": null,
   "metadata": {},
   "outputs": [],
   "source": [
    "def bq_query(query: str, \n",
    "             project_id:str, \n",
    "             dataset_id: str, \n",
    "             table_id: str, \n",
    "             location: str) -> NamedTuple('Outputs', [('table_uri', str), ('job_id', str)]):\n",
    "\n",
    "    from google.cloud import bigquery\n",
    "    from google.api_core import exceptions\n",
    "    import logging\n",
    "    import os\n",
    "    import uuid\n",
    "    \n",
    "    logging.basicConfig(level=logging.INFO)\n",
    "    \n",
    "    client = bigquery.Client(project=project_id, location=location)\n",
    "    \n",
    "    job_config = bigquery.QueryJobConfig()\n",
    "    job_config.create_disposition = bigquery.job.CreateDisposition.CREATE_IF_NEEDED\n",
    "    job_config.write_disposition = bigquery.job.WriteDisposition.WRITE_TRUNCATE\n",
    "    job_id = 'query_' + os.environ.get('KFP_POD_NAME', uuid.uuid1().hex)\n",
    "    \n",
    "    dataset_ref = client.dataset(dataset_id)\n",
    "    try:\n",
    "        dataset = client.get_dataset(dataset_ref)\n",
    "    except exceptions.NotFound:\n",
    "        dataset = bigquery.Dataset(dataset_ref)\n",
    "        dataset.location = location\n",
    "        logging.info('Creating dataset {}'.format(dataset_id))\n",
    "        client.create_dataset(dataset)\n",
    "     \n",
    "    table_id = table_id if table_id else job_id\n",
    "    table_ref = dataset_ref.table(table_id)\n",
    "    job_config.destination = table_ref\n",
    "    logging.info('Submitting the job {}'.format(job_id))\n",
    "    query_job = client.query(query, job_config, job_id=job_id)\n",
    "    query_job.result() # Wait for query to finish\n",
    "            \n",
    "    table_uri = 'bq://{}.{}.{}'.format(project_id, dataset_id, table_id)\n",
    "    \n",
    "    return (table_uri, job_id)"
   ]
  },
  {
   "cell_type": "code",
   "execution_count": null,
   "metadata": {},
   "outputs": [],
   "source": [
    "bq_query_op = comp.func_to_container_op(bq_query, base_image=image_full_uri)"
   ]
  },
  {
   "cell_type": "markdown",
   "metadata": {},
   "source": [
    "#### Create a component that retrieves and logs AutoML evaluation metrics"
   ]
  },
  {
   "cell_type": "code",
   "execution_count": null,
   "metadata": {},
   "outputs": [],
   "source": [
    "def automl_log_regression_metrics(\n",
    "    model_path: str,\n",
    "    primary_metric:str) -> NamedTuple('Outputs', [('primary_metric_value', float), \n",
    "                                                  ('mlpipeline_metrics', 'Metrics')]):\n",
    "    \n",
    "    import logging\n",
    "    import json\n",
    "    from google.cloud import automl_v1beta1 as automl\n",
    "    from collections import namedtuple\n",
    "\n",
    "    logging.basicConfig(level=logging.INFO)\n",
    "    client = automl.TablesClient()\n",
    "\n",
    "    # Retrieve evaluation metrics\n",
    "    for evaluation in client.list_model_evaluations(model_name=model_path):\n",
    "        if evaluation.regression_evaluation_metrics.ListFields():\n",
    "            evaluation_metrics = evaluation.regression_evaluation_metrics      \n",
    "    primary_metric_value = getattr(evaluation_metrics, primary_metric)\n",
    "    \n",
    "    # Write the primary metric as a KFP pipeline metric\n",
    "    metrics = {\n",
    "        'metrics': [{\n",
    "            'name': primary_metric.replace('_', '-'),\n",
    "            'numberValue': primary_metric_value\n",
    "        }]\n",
    "    }\n",
    "    divmod_output = namedtuple('AutoMLMetricsOutput', ['primary_metric_value', 'mlpipeline_metrics'])\n",
    "    return divmod_output(primary_metric_value, json.dumps(metrics))"
   ]
  },
  {
   "cell_type": "code",
   "execution_count": null,
   "metadata": {},
   "outputs": [],
   "source": [
    "log_regression_metrics_op = comp.func_to_container_op(automl_log_regression_metrics, base_image=image_full_uri)"
   ]
  },
  {
   "cell_type": "markdown",
   "metadata": {},
   "source": [
    "#### Create a component that deploys an AutoML model"
   ]
  },
  {
   "cell_type": "code",
   "execution_count": null,
   "metadata": {},
   "outputs": [],
   "source": [
    "def automl_deploy_model(model_path: str):\n",
    "    \n",
    "    import logging\n",
    "    from google.cloud import automl_v1beta1 as automl\n",
    "    from google.cloud.automl_v1beta1 import enums\n",
    "    \n",
    "    logging.basicConfig(level=logging.INFO)\n",
    "    client = automl.TablesClient()\n",
    "    \n",
    "    model = client.get_model(model_name=model_path)\n",
    "    if model.deployment_state != enums.Model.DeploymentState.DEPLOYED:\n",
    "        logging.info(\"Starting model deployment: {}\".format(model_path))\n",
    "        response = client.deploy_model(model_name=model_path)\n",
    "        response.result() # Wait for operation to complete\n",
    "        logging.info(\"Deployment completed\")\n",
    "    else:\n",
    "         logging.info(\"Model already deployed\")\n",
    "    \n",
    "    \n",
    "deploy_model_op = comp.func_to_container_op(automl_deploy_model, base_image=image_full_uri)"
   ]
  },
  {
   "cell_type": "markdown",
   "metadata": {},
   "source": [
    "### Define the pipeline"
   ]
  },
  {
   "cell_type": "markdown",
   "metadata": {},
   "source": [
    "#### Define the pipeline function"
   ]
  },
  {
   "cell_type": "code",
   "execution_count": null,
   "metadata": {},
   "outputs": [],
   "source": [
    "@kfp.dsl.pipeline(\n",
    "    name='CLV Training',\n",
    "    description='CLV Training Pipeline using BigQuery for feature engineering and Automl Tables for model training'\n",
    ")\n",
    "def clv_train(\n",
    "    project_id: str,\n",
    "    feature_engineering_query: str,\n",
    "    features_dataset_id: str,\n",
    "    features_dataset_location: str,    \n",
    "    features_table_id: str ='features',\n",
    "    aml_compute_region: str ='us-central1',\n",
    "    aml_dataset_name: str ='clv_features',\n",
    "    target_column_name: str ='target_monetary',\n",
    "    aml_model_name: str ='clv_regression',\n",
    "    train_budget: 'Integer' =1000,\n",
    "    optimization_objective: str ='MINIMIZE_MAE',\n",
    "    primary_metric: str ='mean_absolute_error',\n",
    "    deployment_threshold: 'Float' ='900'\n",
    "    ):\n",
    "    \"\"\"Trains a Customer Lifetime Value model\"\"\"\n",
    "    \n",
    "    # Use BigQuery to engineer features from transaction data\n",
    "    engineer_features = bq_query_op(\n",
    "        query=feature_engineering_query,\n",
    "        project_id=project_id,\n",
    "        dataset_id=features_dataset_id,\n",
    "        table_id=features_table_id,\n",
    "        location=features_dataset_location)\n",
    "    \n",
    "    # Create an AML Dataset\n",
    "    create_dataset = automl_create_dataset_op(\n",
    "        gcp_project_id=project_id,\n",
    "        gcp_region=aml_compute_region,\n",
    "        display_name=aml_dataset_name\n",
    "    )\n",
    "    \n",
    "    # Import the features from BigQuery to AML Dataset\n",
    "    import_data = automl_import_data_from_bq_op(\n",
    "        dataset_path=create_dataset.outputs['dataset_path'],\n",
    "        input_uri=engineer_features.outputs['table_uri']\n",
    "    )\n",
    "    \n",
    "    # Set the target and feature columns\n",
    "    split_column_specs = automl_split_dataset_table_column_names_op(\n",
    "        dataset_path=import_data.outputs['dataset_path'],\n",
    "        table_index=0,\n",
    "        target_column_name=target_column_name\n",
    "    )\n",
    "    \n",
    "    # Create a model\n",
    "    create_model = automl_create_model__op(\n",
    "        gcp_project_id=project_id,\n",
    "        gcp_region=aml_compute_region,\n",
    "        display_name=aml_model_name,\n",
    "        dataset_id=create_dataset.outputs['dataset_id'],\n",
    "        target_column_path=split_column_specs.outputs['target_column_path'],\n",
    "        input_feature_column_paths=split_column_specs.outputs['feature_column_paths'],\n",
    "        optimization_objective=optimization_objective,\n",
    "        train_budget_milli_node_hours=train_budget\n",
    "    )\n",
    "    \n",
    "    # Retrieve the primary metric from the model evaluations\n",
    "    log_regression_metrics = log_regression_metrics_op(create_model.outputs['model_path'], primary_metric)\n",
    "    \n",
    "    # Deploy the model if the primary metric is better than threshold\n",
    "    with kfp.dsl.Condition(log_regression_metrics.outputs['primary_metric_value'] < deployment_threshold):\n",
    "        deploy_model = deploy_model_op(create_model.outputs['model_path'])\n",
    "    \n",
    "    kfp.dsl.get_pipeline_conf()"
   ]
  },
  {
   "cell_type": "code",
   "execution_count": null,
   "metadata": {},
   "outputs": [],
   "source": [
    "query_template = '''\n",
    "WITH\n",
    "  order_summaries as (\n",
    "    SELECT\n",
    "      a.customer_id,\n",
    "      a.order_date,\n",
    "      a.order_value,\n",
    "      a.order_qty_articles\n",
    "    FROM\n",
    "    (\n",
    "      SELECT\n",
    "        customer_id,\n",
    "        order_date,\n",
    "        ROUND(SUM(unit_price * quantity), 2) AS order_value,\n",
    "        SUM(quantity) AS order_qty_articles,\n",
    "        (\n",
    "          SELECT\n",
    "            MAX(order_date)\n",
    "          FROM\n",
    "            `{{ data_source_id }}` tl\n",
    "          WHERE\n",
    "            tl.customer_id = t.customer_id\n",
    "        ) latest_order\n",
    "      FROM\n",
    "        `{{ data_source_id }}` t\n",
    "      GROUP BY\n",
    "          customer_id,\n",
    "          order_date\n",
    "    ) a\n",
    "\n",
    "    INNER JOIN (\n",
    "      -- Only customers with more than one positive order values before threshold.\n",
    "      SELECT\n",
    "        customer_id\n",
    "      FROM (\n",
    "        -- Customers and how many positive order values  before threshold.\n",
    "        SELECT\n",
    "          customer_id,\n",
    "          SUM(positive_value) cnt_positive_value\n",
    "        FROM (\n",
    "          -- Customer with whether order was positive or not at each date.\n",
    "          SELECT\n",
    "            customer_id,\n",
    "            (\n",
    "              CASE\n",
    "                WHEN SUM(unit_price * quantity) > 0 THEN 1\n",
    "                ELSE 0\n",
    "              END ) positive_value\n",
    "          FROM\n",
    "            `{{ data_source_id }}`\n",
    "          WHERE\n",
    "            order_date < DATE(\"{{ threshold_date }}\")\n",
    "          GROUP BY\n",
    "            customer_id,\n",
    "            order_date)\n",
    "        GROUP BY\n",
    "          customer_id )\n",
    "      WHERE\n",
    "        cnt_positive_value > 1\n",
    "      ) b\n",
    "    ON\n",
    "      a.customer_id = b.customer_id\n",
    "    --[START common_clean]\n",
    "    WHERE\n",
    "      -- Bought in the past 3 months\n",
    "      DATE_DIFF(DATE(\"{{ predict_end }}\"), latest_order, DAY) <= 90\n",
    "      -- Make sure returns are consistent.\n",
    "      AND (\n",
    "        (order_qty_articles > 0 and order_Value > 0) OR\n",
    "        (order_qty_articles < 0 and order_Value < 0)\n",
    "      ))\n",
    "          \n",
    "SELECT\n",
    "--  tf.customer_id,\n",
    "  ROUND(tf.monetary, 2) as monetary,\n",
    "  tf.cnt_orders AS frequency,\n",
    "  tf.recency,\n",
    "  tf.T,\n",
    "  ROUND(tf.recency/cnt_orders, 2) AS time_between,\n",
    "  ROUND(tf.avg_basket_value, 2) AS avg_basket_value,\n",
    "  ROUND(tf.avg_basket_size, 2) AS avg_basket_size,\n",
    "  tf.cnt_returns,\n",
    "  -- Target calculated for overall period\n",
    "  ROUND(tt.target_monetary, 2) as target_monetary\n",
    "FROM\n",
    "  -- This SELECT uses only data before threshold to make features.\n",
    "  (\n",
    "    SELECT\n",
    "      customer_id,\n",
    "      SUM(order_value) AS monetary,\n",
    "      DATE_DIFF(MAX(order_date), MIN(order_date), DAY) AS recency,\n",
    "      DATE_DIFF(DATE('{{ threshold_date }}'), MIN(order_date), DAY) AS T,\n",
    "      COUNT(DISTINCT order_date) AS cnt_orders,\n",
    "      AVG(order_qty_articles) avg_basket_size,\n",
    "      AVG(order_value) avg_basket_value,\n",
    "      SUM(CASE\n",
    "          WHEN order_value < 1 THEN 1\n",
    "          ELSE 0 END) AS cnt_returns\n",
    "    FROM\n",
    "      order_summaries a\n",
    "    WHERE\n",
    "      order_date <= DATE('{{ threshold_date }}')\n",
    "    GROUP BY\n",
    "      customer_id) tf,\n",
    "\n",
    "  -- This SELECT uses data after threshold to calculate the target )\n",
    "  (\n",
    "    SELECT\n",
    "      customer_id,\n",
    "      SUM(order_value) target_monetary\n",
    "    FROM\n",
    "      order_summaries\n",
    "      WHERE order_date > DATE('{{ threshold_date }}')\n",
    "    GROUP BY\n",
    "      customer_id) tt\n",
    "WHERE\n",
    "  tf.customer_id = tt.customer_id\n",
    "  AND tf.monetary > 0\n",
    "  AND tf.monetary <= {{ max_monetary }}\n",
    "'''\n",
    "    \n",
    "query = Template(query_template).render(\n",
    "    data_source_id='{}.{}.{}'.format(PROJECT_ID, DATASET_ID, TRANSACTIONS_TABLE_ID),\n",
    "    threshold_date='2011-08-08',\n",
    "    predict_end='2011-12-12',\n",
    "    max_monetary=15000)"
   ]
  },
  {
   "cell_type": "code",
   "execution_count": null,
   "metadata": {},
   "outputs": [],
   "source": [
    "pipeline_func = clv_train"
   ]
  },
  {
   "cell_type": "code",
   "execution_count": null,
   "metadata": {},
   "outputs": [],
   "source": [
    "experiment_name = 'clv_kubeflow'\n",
    "\n",
    "arguments = {\n",
    "    'project_id': PROJECT_ID,\n",
    "    'features_dataset_id': DATASET_ID,\n",
    "    'features_dataset_location':  DATASET_LOCATION,\n",
    "    'feature_engineering_query': query}\n",
    "\n",
    "run_name = pipeline_func.__name__ + ' run'\n",
    "\n",
    "# Submit pipeline directly from pipeline function\n",
    "run_result = client.create_run_from_pipeline_func(pipeline_func, \n",
    "                                                  experiment_name=experiment_name, \n",
    "                                                  run_name=run_name, \n",
    "                                                  arguments=arguments)"
   ]
  },
  {
   "cell_type": "code",
   "execution_count": null,
   "metadata": {},
   "outputs": [],
   "source": []
  }
 ],
 "metadata": {
  "environment": {
   "name": "tf2-gpu.2-1.m50",
   "type": "gcloud",
   "uri": "gcr.io/deeplearning-platform-release/tf2-gpu.2-1:m50"
  },
  "kernelspec": {
   "display_name": "Python 3",
   "language": "python",
   "name": "python3"
  },
  "language_info": {
   "codemirror_mode": {
    "name": "ipython",
    "version": 3
   },
   "file_extension": ".py",
   "mimetype": "text/x-python",
   "name": "python",
   "nbconvert_exporter": "python",
   "pygments_lexer": "ipython3",
   "version": "3.7.6"
  }
 },
 "nbformat": 4,
 "nbformat_minor": 4
}
