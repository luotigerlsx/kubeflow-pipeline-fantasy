{
 "cells": [
  {
   "cell_type": "markdown",
   "metadata": {},
   "source": [
    "# Local development and docker image components\n",
    "\n",
    "- This section assumes that you have already created a program to perform the task required in a particular step of your ML workflow. We will again use the MINIST toy model for demonstration.\n",
    "\n",
    "- Then, a Docker container image will be built to package your program. \n",
    "\n",
    "- Then, call `kfp.components.ContainerOp` to convert it to a component that can be used in a pipeline. Your component can create outputs that the downstream components can use as inputs\n",
    "\n",
    "**Note: Make sure that you have docker installed in the local environment**"
   ]
  },
  {
   "cell_type": "code",
   "execution_count": 1,
   "metadata": {},
   "outputs": [],
   "source": [
    "import kfp\n",
    "import kfp.gcp as gcp\n",
    "import kfp.dsl as dsl\n",
    "import kfp.compiler as compiler\n",
    "import kfp.components as comp\n",
    "import datetime\n",
    "\n",
    "import kubernetes as k8s"
   ]
  },
  {
   "cell_type": "code",
   "execution_count": 6,
   "metadata": {},
   "outputs": [],
   "source": [
    "PROJECT_ID='kubeflow-pipeline-fantasy'"
   ]
  },
  {
   "cell_type": "markdown",
   "metadata": {},
   "source": [
    "## Wrap an existing Docker container image using `ContainerOp`\n",
    "Since **docker** is not installed in the kubeflow notebook, the following cells cannot be run."
   ]
  },
  {
   "cell_type": "markdown",
   "metadata": {},
   "source": [
    "### Create a Docker container\n",
    "Create your own container image that includes your program. \n",
    "- If your component creates some outputs to be fed as inputs to the downstream components, each separate output must be written as a string to a separate local text file inside the container image. \n",
    "- For example, if a trainer component needs to output the trained model path, it can write the path to a local file `/output.txt`. \n",
    "- The string written to an output file cannot be too big. If it is too big (>> 100 kB), it is recommended to save the output to an external persistent storage and pass the storage path to the next component."
   ]
  },
  {
   "cell_type": "markdown",
   "metadata": {},
   "source": [
    "The following cell creates a file `app.py` that contains a Python script. The script takes a GCS bucket name as an input argument, gets the lists of blobs in that bucket, prints the list of blobs and also writes them to an output file."
   ]
  },
  {
   "cell_type": "code",
   "execution_count": 30,
   "metadata": {},
   "outputs": [],
   "source": [
    "%%bash\n",
    "\n",
    "# Create folders if they don't exist.\n",
    "mkdir -p tmp/components/minist_training\n",
    "\n",
    "# Create the Python file that lists GCS blobs.\n",
    "cat > ./tmp/components/minist_training/app.py <<HERE\n",
    "import argparse\n",
    "from datetime import datetime\n",
    "import tensorflow as tf\n",
    "\n",
    "parser = argparse.ArgumentParser()\n",
    "parser.add_argument(\n",
    "    '--model_file', type=str, required=True, help='Name of the model file.')\n",
    "parser.add_argument(\n",
    "    '--bucket', type=str, required=True, help='GCS bucket name.')\n",
    "args = parser.parse_args()\n",
    "\n",
    "bucket=args.bucket\n",
    "model_file=args.model_file\n",
    "\n",
    "model = tf.keras.models.Sequential([\n",
    "  tf.keras.layers.Flatten(input_shape=(28, 28)),\n",
    "  tf.keras.layers.Dense(512, activation=tf.nn.relu),\n",
    "  tf.keras.layers.Dropout(0.2),\n",
    "  tf.keras.layers.Dense(10, activation=tf.nn.softmax)\n",
    "])\n",
    "\n",
    "model.compile(optimizer='adam',\n",
    "              loss='sparse_categorical_crossentropy',\n",
    "              metrics=['accuracy'])\n",
    "\n",
    "print(model.summary())    \n",
    "\n",
    "mnist = tf.keras.datasets.mnist\n",
    "(x_train, y_train),(x_test, y_test) = mnist.load_data()\n",
    "x_train, x_test = x_train / 255.0, x_test / 255.0\n",
    "\n",
    "callbacks = [\n",
    "  tf.keras.callbacks.TensorBoard(log_dir=bucket + '/logs/' + datetime.now().date().__str__()),\n",
    "  # Interrupt training if val_loss stops improving for over 2 epochs\n",
    "  tf.keras.callbacks.EarlyStopping(patience=2, monitor='val_loss'),\n",
    "]\n",
    "\n",
    "model.fit(x_train, y_train, batch_size=32, epochs=5, callbacks=callbacks,\n",
    "          validation_data=(x_test, y_test))\n",
    "\n",
    "\n",
    "model.save(model_file)\n",
    "\n",
    "from tensorflow import gfile\n",
    "\n",
    "gcs_path = bucket + \"/\" + model_file\n",
    "\n",
    "if gfile.Exists(gcs_path):\n",
    "    gfile.Remove(gcs_path)\n",
    "\n",
    "gfile.Copy(model_file, gcs_path)\n",
    "with open('/output.txt', 'w') as f:\n",
    "  f.write(gcs_path)\n",
    "HERE"
   ]
  },
  {
   "cell_type": "markdown",
   "metadata": {},
   "source": [
    "Now create a container that runs the script. Start by creating a `Dockerfile`. A `Dockerfile` contains the instructions to assemble a Docker image. The `FROM` statement specifies the Base Image from which you are building. `WORKDIR` sets the working directory. When you assemble the Docker image, `COPY` will copy the required files and directories (for example, `app.py`) to the filesystem of the container. `RUN` will execute a command (for example, install the dependencies) and commits the results. "
   ]
  },
  {
   "cell_type": "code",
   "execution_count": 31,
   "metadata": {},
   "outputs": [],
   "source": [
    "%%bash\n",
    "\n",
    "# Create Dockerfile.\n",
    "cat > ./tmp/components/minist_training/Dockerfile <<EOF\n",
    "FROM tensorflow/tensorflow:1.15.0-py3\n",
    "WORKDIR /app\n",
    "COPY . /app\n",
    "EOF"
   ]
  },
  {
   "cell_type": "markdown",
   "metadata": {},
   "source": [
    "Now that we have created our Dockerfile we can create our Docker image. Then we need to push the image to a registry to host the image. Now create a Shell script that builds a container image and stores it in the Google Container Registry."
   ]
  },
  {
   "cell_type": "code",
   "execution_count": 32,
   "metadata": {},
   "outputs": [],
   "source": [
    "%%bash -s \"{PROJECT_ID}\"\n",
    "\n",
    "IMAGE_NAME=\"minist_training_kf_pipeline\"\n",
    "TAG=\"latest\" # \"v_$(date +%Y%m%d_%H%M%S)\"\n",
    "\n",
    "# Create script to build docker image and push it.\n",
    "cat > ./tmp/components/minist_training/build_image.sh <<HERE\n",
    "PROJECT_ID=\"${1}\"\n",
    "IMAGE_NAME=\"${IMAGE_NAME}\"\n",
    "TAG=\"${TAG}\"\n",
    "GCR_IMAGE=\"gcr.io/\\${PROJECT_ID}/\\${IMAGE_NAME}:\\${TAG}\"\n",
    "docker build -t \\${IMAGE_NAME} .\n",
    "docker tag \\${IMAGE_NAME} \\${GCR_IMAGE}\n",
    "docker push \\${GCR_IMAGE}\n",
    "docker image rm \\${IMAGE_NAME}\n",
    "docker image rm \\${GCR_IMAGE}\n",
    "HERE"
   ]
  },
  {
   "cell_type": "markdown",
   "metadata": {},
   "source": [
    "Run the script."
   ]
  },
  {
   "cell_type": "code",
   "execution_count": 33,
   "metadata": {
    "scrolled": true
   },
   "outputs": [
    {
     "name": "stdout",
     "output_type": "stream",
     "text": [
      "Sending build context to Docker daemon   5.12kB\r",
      "\r\n",
      "Step 1/3 : FROM tensorflow/tensorflow:1.15.0-py3\n",
      " ---> f24a5ca8605f\n",
      "Step 2/3 : WORKDIR /app\n",
      " ---> Running in 360f66865c09\n",
      "Removing intermediate container 360f66865c09\n",
      " ---> a8a9b4e8797e\n",
      "Step 3/3 : COPY . /app\n",
      " ---> 14fb2833cc41\n",
      "Successfully built 14fb2833cc41\n",
      "Successfully tagged minist_training_kf_pipeline:latest\n",
      "The push refers to repository [gcr.io/kubeflow-pipeline-fantasy/minist_training_kf_pipeline]\n",
      "7d4309fa235b: Preparing\n",
      "8d2418a6ceee: Preparing\n",
      "84c3bc63b701: Preparing\n",
      "56ec85ad394c: Preparing\n",
      "aefe991487a2: Preparing\n",
      "4a58ecdd995f: Preparing\n",
      "fa9f3f4bd775: Preparing\n",
      "2bf9e296738e: Preparing\n",
      "92486bede3ce: Preparing\n",
      "19331eff40f0: Preparing\n",
      "100ef12ce3a4: Preparing\n",
      "97e6b67a30f1: Preparing\n",
      "a090697502b8: Preparing\n",
      "19331eff40f0: Waiting\n",
      "100ef12ce3a4: Waiting\n",
      "4a58ecdd995f: Waiting\n",
      "97e6b67a30f1: Waiting\n",
      "fa9f3f4bd775: Waiting\n",
      "a090697502b8: Waiting\n",
      "2bf9e296738e: Waiting\n",
      "92486bede3ce: Waiting\n",
      "56ec85ad394c: Layer already exists\n",
      "aefe991487a2: Layer already exists\n",
      "84c3bc63b701: Layer already exists\n",
      "2bf9e296738e: Layer already exists\n",
      "fa9f3f4bd775: Layer already exists\n",
      "4a58ecdd995f: Layer already exists\n",
      "19331eff40f0: Layer already exists\n",
      "92486bede3ce: Layer already exists\n",
      "100ef12ce3a4: Layer already exists\n",
      "a090697502b8: Layer already exists\n",
      "97e6b67a30f1: Layer already exists\n",
      "7d4309fa235b: Pushed\n",
      "8d2418a6ceee: Pushed\n",
      "latest: digest: sha256:18c41944015ba788a6b5d2ea92ae9afd5199e41952c203d2ef0709444bdfc825 size: 3038\n",
      "Untagged: minist_training_kf_pipeline:latest\n",
      "Untagged: gcr.io/kubeflow-pipeline-fantasy/minist_training_kf_pipeline:latest\n",
      "Untagged: gcr.io/kubeflow-pipeline-fantasy/minist_training_kf_pipeline@sha256:18c41944015ba788a6b5d2ea92ae9afd5199e41952c203d2ef0709444bdfc825\n",
      "Deleted: sha256:14fb2833cc41d1b6797dcffa08269bc5564d18e7cf87e4148d6c42b016b13e81\n",
      "Deleted: sha256:fd9cf24b1baf379110361e15c20b830cb2125c7d6e9b691b5ca5c48fa4c694e6\n",
      "Deleted: sha256:a8a9b4e8797ea0a64a21b0f38145f02e1f0cab75e7014a15df7c44a5bde81db5\n",
      "Deleted: sha256:71f5c2acb2fae0a220dac6339fc2b473eab7a1b0920d70b71e7ef02609208ed2\n"
     ]
    }
   ],
   "source": [
    "%%bash\n",
    "\n",
    "# Build and push the image.\n",
    "cd tmp/components/minist_training\n",
    "bash build_image.sh"
   ]
  },
  {
   "cell_type": "markdown",
   "metadata": {},
   "source": [
    "### Define each component\n",
    "Define a component by creating an instance of `kfp.dsl.ContainerOp` that describes the interactions with the Docker container image created in the previous step. You need to specify the component name, the image to use, the command to run after the container starts, the input arguments, and the file outputs. ."
   ]
  },
  {
   "cell_type": "code",
   "execution_count": 34,
   "metadata": {},
   "outputs": [],
   "source": [
    "def minist_train_op(model_file, bucket):\n",
    "    return dsl.ContainerOp(\n",
    "      name=\"minist_training_container\",\n",
    "      image='gcr.io/{}/minist_training_kf_pipeline:latest'.format(PROJECT_ID),\n",
    "      command=['python', '/app/app.py'],\n",
    "      file_outputs={'outputs': '/output.txt'},\n",
    "      arguments=['--bucket', bucket, '--model_file', model_file]\n",
    "    )"
   ]
  },
  {
   "cell_type": "markdown",
   "metadata": {},
   "source": [
    "### Create your workflow as a Python function"
   ]
  },
  {
   "cell_type": "markdown",
   "metadata": {},
   "source": [
    "Define your pipeline as a Python function. ` @kfp.dsl.pipeline` is a required decoration including `name` and `description` properties. Then compile the pipeline function. After the compilation is completed, a pipeline file is created."
   ]
  },
  {
   "cell_type": "code",
   "execution_count": 35,
   "metadata": {},
   "outputs": [],
   "source": [
    "# Define the pipeline\n",
    "@dsl.pipeline(\n",
    "   name='Minist pipeline',\n",
    "   description='A toy pipeline that performs minist model training.'\n",
    ")\n",
    "def minist_container_pipeline(\n",
    "    model_file: str = 'mnist_model.h5', \n",
    "    bucket: str = \"gs://kubeflow-pipeline-fantasy-kubeflow1-bucket\"\n",
    "):\n",
    "    minist_train_op(model_file=model_file, bucket=bucket).apply(gcp.use_gcp_secret('user-gcp-sa'))"
   ]
  },
  {
   "cell_type": "code",
   "execution_count": 36,
   "metadata": {},
   "outputs": [],
   "source": [
    "#Get or create an experiment and submit a pipeline run\n",
    "in_cluster = True\n",
    "try:\n",
    "  k8s.config.load_incluster_config()\n",
    "except:\n",
    "  in_cluster = False\n",
    "  pass\n",
    "\n",
    "if in_cluster:\n",
    "    client = kfp.Client()\n",
    "else:\n",
    "    host = \"https://kubeflow1.endpoints.kubeflow-pipeline-fantasy.cloud.goog/pipeline\"\n",
    "    client_id = \"493831447550-os23o55235htd9v45a9lsejv8d1plhd0.apps.googleusercontent.com\"\n",
    "    other_client_id = \"493831447550-iu24vv6id3ng5smhf2lboovv5qukuhbh.apps.googleusercontent.com\"\n",
    "    other_client_secret = \"cB8Xj-rb9JWCYcCRDlpTMfhc\"\n",
    "    client = kfp.Client(host=host, \n",
    "                        client_id=client_id,\n",
    "                        other_client_id=other_client_id, \n",
    "                        other_client_secret=other_client_secret)"
   ]
  },
  {
   "cell_type": "code",
   "execution_count": 37,
   "metadata": {},
   "outputs": [
    {
     "data": {
      "text/html": [
       "Experiment link <a href=\"https://kubeflow1.endpoints.kubeflow-pipeline-fantasy.cloud.goog/pipeline/#/experiments/details/a1bdd769-68c9-42eb-a48b-f239f2f0a94e\" target=\"_blank\" >here</a>"
      ],
      "text/plain": [
       "<IPython.core.display.HTML object>"
      ]
     },
     "metadata": {},
     "output_type": "display_data"
    },
    {
     "data": {
      "text/html": [
       "Run link <a href=\"https://kubeflow1.endpoints.kubeflow-pipeline-fantasy.cloud.goog/pipeline/#/runs/details/f7f50980-737d-4a00-b17d-6e0a70e66a0d\" target=\"_blank\" >here</a>"
      ],
      "text/plain": [
       "<IPython.core.display.HTML object>"
      ]
     },
     "metadata": {},
     "output_type": "display_data"
    }
   ],
   "source": [
    "pipeline_func = minist_container_pipeline\n",
    "pipeline_filename = pipeline_func.__name__ + '.pipeline.zip'\n",
    "\n",
    "compiler.Compiler().compile(pipeline_func, pipeline_filename)\n",
    "#Submit a pipeline run\n",
    "arguments = {\"model_file\":\"mnist_model.h5\",\n",
    "             \"bucket\":\"gs://kubeflow-pipeline-fantasy-kubeflow1-bucket\"}\n",
    "run_name = pipeline_func.__name__ + ' run'\n",
    "experiment = client.create_experiment('python-functions-minist')\n",
    "\n",
    "run_result = client.run_pipeline(experiment.id, run_name, pipeline_filename, arguments)"
   ]
  },
  {
   "cell_type": "markdown",
   "metadata": {},
   "source": [
    "Follow the [instructions](https://www.kubeflow.org/docs/other-guides/accessing-uis/) on kubeflow.org to access Kubeflow UIs. Upload the created pipeline and run it.\n",
    "\n",
    "**Warning:** When the pipeline is run, it pulls the image from the repository to the Kubernetes cluster to create a container. Kubernetes caches pulled images. One solution is to use the image digest instead of the tag in your component dsl, for example, `s/v1/sha256:9509182e27dcba6d6903fccf444dc6188709cc094a018d5dd4211573597485c9/g`. Alternatively, if you don't want to update the digest every time, you can try `:latest` tag, which will force the k8s to always pull the latest image.."
   ]
  },
  {
   "cell_type": "markdown",
   "metadata": {},
   "source": [
    "___"
   ]
  }
 ],
 "metadata": {
  "kernelspec": {
   "display_name": "virtualPython35",
   "language": "python",
   "name": "virtualpython35"
  },
  "language_info": {
   "codemirror_mode": {
    "name": "ipython",
    "version": 3
   },
   "file_extension": ".py",
   "mimetype": "text/x-python",
   "name": "python",
   "nbconvert_exporter": "python",
   "pygments_lexer": "ipython3",
   "version": "3.5.7"
  }
 },
 "nbformat": 4,
 "nbformat_minor": 2
}
