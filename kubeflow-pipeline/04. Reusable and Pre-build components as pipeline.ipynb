{
 "cells": [
  {
   "cell_type": "markdown",
   "metadata": {},
   "source": [
    "# Reusable components and Pre-build components\n",
    "\n",
    "This tutorial describes the manual way of writing a full component program (in any language) and a component definition for it. Below is a summary of the steps involved in creating and using a component:\n",
    "\n",
    "- Write the program that contains your component’s logic. The program must use files and command-line arguments to pass data to and from the component.\n",
    "- Containerize the program.\n",
    "- Write a component specification in YAML format that describes the component for the Kubeflow Pipelines system.\n",
    "- Use the Kubeflow Pipelines SDK to load your component, use it in a pipeline and run that pipeline.\n",
    "\n",
    "More over, we will combine our built components together with a pre-build components to compose a pipeline with two steps\n",
    "- Train a minist model and export to GCS\n",
    "- Deploy the exported tensorflow model on AI Platform\n",
    "- Test the deployment by calling the end point\n",
    "\n",
    "**Note: Make sure that you have docker installed in the local environment**"
   ]
  },
  {
   "cell_type": "code",
   "execution_count": 3,
   "metadata": {},
   "outputs": [],
   "source": [
    "import kfp\n",
    "import kfp.gcp as gcp\n",
    "import kfp.dsl as dsl\n",
    "import kfp.compiler as compiler\n",
    "import kfp.components as comp\n",
    "import datetime\n",
    "\n",
    "import kubernetes as k8s"
   ]
  },
  {
   "cell_type": "code",
   "execution_count": 4,
   "metadata": {},
   "outputs": [],
   "source": [
    "PROJECT_ID='kubeflow-pipeline-fantasy'"
   ]
  },
  {
   "cell_type": "markdown",
   "metadata": {},
   "source": [
    "# Build reusable components"
   ]
  },
  {
   "cell_type": "markdown",
   "metadata": {},
   "source": [
    "## Writing the program code"
   ]
  },
  {
   "cell_type": "markdown",
   "metadata": {},
   "source": [
    "The following cell creates a file `app.py` that contains a Python script. The script takes a GCS bucket name as an input argument, gets the lists of blobs in that bucket, prints the list of blobs and also writes them to an output file."
   ]
  },
  {
   "cell_type": "code",
   "execution_count": 63,
   "metadata": {},
   "outputs": [],
   "source": [
    "%%bash\n",
    "\n",
    "# Create folders if they don't exist.\n",
    "mkdir -p tmp/reuse_components_pipeline/minist_training\n",
    "\n",
    "# Create the Python file that lists GCS blobs.\n",
    "cat > ./tmp/reuse_components_pipeline/minist_training/app.py <<HERE\n",
    "import argparse\n",
    "from datetime import datetime\n",
    "import tensorflow as tf\n",
    "\n",
    "parser = argparse.ArgumentParser()\n",
    "parser.add_argument(\n",
    "    '--model_path', type=str, required=True, help='Name of the model file.')\n",
    "parser.add_argument(\n",
    "    '--bucket', type=str, required=True, help='GCS bucket name.')\n",
    "args = parser.parse_args()\n",
    "\n",
    "bucket=args.bucket\n",
    "model_path=args.model_path\n",
    "\n",
    "model = tf.keras.models.Sequential([\n",
    "  tf.keras.layers.Flatten(input_shape=(28, 28)),\n",
    "  tf.keras.layers.Dense(512, activation=tf.nn.relu),\n",
    "  tf.keras.layers.Dropout(0.2),\n",
    "  tf.keras.layers.Dense(10, activation=tf.nn.softmax)\n",
    "])\n",
    "\n",
    "model.compile(optimizer='adam',\n",
    "              loss='sparse_categorical_crossentropy',\n",
    "              metrics=['accuracy'])\n",
    "\n",
    "print(model.summary())    \n",
    "\n",
    "mnist = tf.keras.datasets.mnist\n",
    "(x_train, y_train),(x_test, y_test) = mnist.load_data()\n",
    "x_train, x_test = x_train / 255.0, x_test / 255.0\n",
    "\n",
    "callbacks = [\n",
    "  tf.keras.callbacks.TensorBoard(log_dir=bucket + '/logs/' + datetime.now().date().__str__()),\n",
    "  # Interrupt training if val_loss stops improving for over 2 epochs\n",
    "  tf.keras.callbacks.EarlyStopping(patience=2, monitor='val_loss'),\n",
    "]\n",
    "\n",
    "model.fit(x_train, y_train, batch_size=32, epochs=5, callbacks=callbacks,\n",
    "          validation_data=(x_test, y_test))\n",
    "\n",
    "from tensorflow import gfile\n",
    "\n",
    "gcs_path = bucket + \"/\" + model_path\n",
    "# The export require the folder is new\n",
    "if gfile.Exists(gcs_path):\n",
    "    gfile.DeleteRecursively(gcs_path)\n",
    "tf.keras.experimental.export_saved_model(model, gcs_path)\n",
    "\n",
    "with open('/output.txt', 'w') as f:\n",
    "  f.write(gcs_path)\n",
    "HERE"
   ]
  },
  {
   "cell_type": "markdown",
   "metadata": {},
   "source": [
    "## Create a Docker container\n",
    "Create your own container image that includes your program. \n",
    "- If your component creates some outputs to be fed as inputs to the downstream components, each separate output must be written as a string to a separate local text file inside the container image. \n",
    "- For example, if a trainer component needs to output the trained model path, it can write the path to a local file `/output.txt`. \n",
    "- The string written to an output file cannot be too big. If it is too big (>> 100 kB), it is recommended to save the output to an external persistent storage and pass the storage path to the next component."
   ]
  },
  {
   "cell_type": "markdown",
   "metadata": {},
   "source": [
    "Now create a container that runs the script. Start by creating a `Dockerfile`. A `Dockerfile` contains the instructions to assemble a Docker image. The `FROM` statement specifies the Base Image from which you are building. `WORKDIR` sets the working directory. When you assemble the Docker image, `COPY` will copy the required files and directories (for example, `app.py`) to the filesystem of the container. `RUN` will execute a command (for example, install the dependencies) and commits the results. "
   ]
  },
  {
   "cell_type": "code",
   "execution_count": 64,
   "metadata": {},
   "outputs": [],
   "source": [
    "%%bash\n",
    "\n",
    "# Create Dockerfile.\n",
    "# AI platform only support tensorflow 1.14\n",
    "cat > ./tmp/reuse_components_pipeline/minist_training/Dockerfile <<EOF\n",
    "FROM tensorflow/tensorflow:1.14.0-py3\n",
    "WORKDIR /app\n",
    "COPY . /app\n",
    "EOF"
   ]
  },
  {
   "cell_type": "markdown",
   "metadata": {},
   "source": [
    "Now that we have created our Dockerfile we can create our Docker image. Then we need to push the image to a registry to host the image. Now create a Shell script that builds a container image and stores it in the Google Container Registry."
   ]
  },
  {
   "cell_type": "code",
   "execution_count": 65,
   "metadata": {},
   "outputs": [],
   "source": [
    "%%bash -s \"{PROJECT_ID}\"\n",
    "\n",
    "IMAGE_NAME=\"minist_training_kf_pipeline\"\n",
    "TAG=\"latest\" # \"v_$(date +%Y%m%d_%H%M%S)\"\n",
    "\n",
    "# Create script to build docker image and push it.\n",
    "cat > ./tmp/reuse_components_pipeline/minist_training/build_image.sh <<HERE\n",
    "PROJECT_ID=\"${1}\"\n",
    "IMAGE_NAME=\"${IMAGE_NAME}\"\n",
    "TAG=\"${TAG}\"\n",
    "GCR_IMAGE=\"gcr.io/\\${PROJECT_ID}/\\${IMAGE_NAME}:\\${TAG}\"\n",
    "docker build -t \\${IMAGE_NAME} .\n",
    "docker tag \\${IMAGE_NAME} \\${GCR_IMAGE}\n",
    "docker push \\${GCR_IMAGE}\n",
    "docker inspect --format=\"{{index .RepoDigests 0}}\" \"${IMAGE_NAME}\"\n",
    "docker image rm \\${IMAGE_NAME}\n",
    "docker image rm \\${GCR_IMAGE}\n",
    "HERE"
   ]
  },
  {
   "cell_type": "markdown",
   "metadata": {},
   "source": [
    "Run the script."
   ]
  },
  {
   "cell_type": "code",
   "execution_count": 66,
   "metadata": {
    "scrolled": true
   },
   "outputs": [
    {
     "name": "stdout",
     "output_type": "stream",
     "text": [
      "Sending build context to Docker daemon  5.632kB\r",
      "\r\n",
      "Step 1/3 : FROM tensorflow/tensorflow:1.14.0-py3\n",
      " ---> 4cc892a3babd\n",
      "Step 2/3 : WORKDIR /app\n",
      " ---> Running in 9a683d63434c\n",
      "Removing intermediate container 9a683d63434c\n",
      " ---> 6a94fdb7cc0b\n",
      "Step 3/3 : COPY . /app\n",
      " ---> a6a06c59c76e\n",
      "Successfully built a6a06c59c76e\n",
      "Successfully tagged minist_training_kf_pipeline:latest\n",
      "The push refers to repository [gcr.io/kubeflow-pipeline-fantasy/minist_training_kf_pipeline]\n",
      "ad4f7a6923bb: Preparing\n",
      "6fd4fb980e53: Preparing\n",
      "a144de6e67e6: Preparing\n",
      "4b8ec9124f1c: Preparing\n",
      "652cdcb17d30: Preparing\n",
      "dd7f77c80a16: Preparing\n",
      "f4cb77175ac9: Preparing\n",
      "31835e84bcc0: Preparing\n",
      "75e70aa52609: Preparing\n",
      "dda151859818: Preparing\n",
      "fbd2732ad777: Preparing\n",
      "ba9de9d8475e: Preparing\n",
      "75e70aa52609: Waiting\n",
      "dda151859818: Waiting\n",
      "dd7f77c80a16: Waiting\n",
      "f4cb77175ac9: Waiting\n",
      "31835e84bcc0: Waiting\n",
      "fbd2732ad777: Waiting\n",
      "ba9de9d8475e: Waiting\n",
      "652cdcb17d30: Layer already exists\n",
      "a144de6e67e6: Layer already exists\n",
      "4b8ec9124f1c: Layer already exists\n",
      "dd7f77c80a16: Layer already exists\n",
      "f4cb77175ac9: Layer already exists\n",
      "31835e84bcc0: Layer already exists\n",
      "75e70aa52609: Layer already exists\n",
      "dda151859818: Layer already exists\n",
      "fbd2732ad777: Layer already exists\n",
      "ba9de9d8475e: Layer already exists\n",
      "6fd4fb980e53: Pushed\n",
      "ad4f7a6923bb: Pushed\n",
      "latest: digest: sha256:314be0b9ddfa933eaca15a694dca29d0b93eb0890ef5ee9a221bcfa5a79db60d size: 2826\n",
      "gcr.io/kubeflow-pipeline-fantasy/minist_training_kf_pipeline@sha256:314be0b9ddfa933eaca15a694dca29d0b93eb0890ef5ee9a221bcfa5a79db60d\n",
      "Untagged: minist_training_kf_pipeline:latest\n",
      "Untagged: gcr.io/kubeflow-pipeline-fantasy/minist_training_kf_pipeline:latest\n",
      "Untagged: gcr.io/kubeflow-pipeline-fantasy/minist_training_kf_pipeline@sha256:314be0b9ddfa933eaca15a694dca29d0b93eb0890ef5ee9a221bcfa5a79db60d\n",
      "Deleted: sha256:a6a06c59c76ebf81f006e673afeff99e0fd9ab6143b9a4854964ad1cc7d983a3\n",
      "Deleted: sha256:ab772a88adbbfc3c07236ad5f749a26445ce0e6f237919f0cb04928b1083f94d\n",
      "Deleted: sha256:6a94fdb7cc0be20e87abb8f9752cec5c8a8409da4c77dd66f6dfe94d05c7d69e\n",
      "Deleted: sha256:8dffeacc9e969980ac3c8793345ba6621310eed0b72f93039949efc97e59cc93\n"
     ]
    }
   ],
   "source": [
    "%%bash\n",
    "\n",
    "# Build and push the image.\n",
    "cd tmp/reuse_components_pipeline/minist_training\n",
    "bash build_image.sh"
   ]
  },
  {
   "cell_type": "markdown",
   "metadata": {},
   "source": [
    "## Writing your component definition file\n",
    "To create a component from your containerized program you need to write component specification in YAML format that describes the component for the Kubeflow Pipelines system.\n",
    "\n",
    "For the complete definition of a Kubeflow Pipelines component, see the [component specification](https://www.kubeflow.org/docs/pipelines/reference/component-spec/). However, for this tutorial you don’t need to know the full schema of the component specification. The tutorial provides enough information for the relevant the components.\n",
    "\n",
    "Start writing the component definition (component.yaml) by specifying your container image in the component’s implementation section:"
   ]
  },
  {
   "cell_type": "code",
   "execution_count": 67,
   "metadata": {},
   "outputs": [],
   "source": [
    "%%bash\n",
    "\n",
    "# Create Yaml\n",
    "\n",
    "cat > minist_component.yaml <<HERE\n",
    "name: Minist training\n",
    "description: Train a minist model and save to GCS\n",
    "inputs:\n",
    "  - name: model_path\n",
    "    description: 'Path of the tf model.'\n",
    "    type: String\n",
    "  - name: bucket\n",
    "    description: 'GCS bucket name.'\n",
    "    type: String\n",
    "outputs:\n",
    "  - name: gcs_model_path\n",
    "    description: 'Trained model path.'\n",
    "    type: GCSPath\n",
    "implementation:\n",
    "  container:\n",
    "    image: gcr.io/kubeflow-pipeline-fantasy/minist_training_kf_pipeline@sha256:314be0b9ddfa933eaca15a694dca29d0b93eb0890ef5ee9a221bcfa5a79db60d\n",
    "    command: [\n",
    "      python, /app/app.py,\n",
    "      --model_path, {inputValue: model_path},\n",
    "      --bucket,     {inputValue: bucket},\n",
    "    ]\n",
    "    fileOutputs:\n",
    "      gcs_model_path: /output.txt\n",
    "HERE"
   ]
  },
  {
   "cell_type": "code",
   "execution_count": null,
   "metadata": {},
   "outputs": [],
   "source": [
    "import os\n",
    "minist_train_op = kfp.components.load_component_from_file(os.path.join('./', 'minist_component.yaml')) "
   ]
  },
  {
   "cell_type": "code",
   "execution_count": null,
   "metadata": {},
   "outputs": [],
   "source": [
    "minist_train_op.component_spec"
   ]
  },
  {
   "cell_type": "markdown",
   "metadata": {},
   "source": [
    "# Define deployment operation on AI Platform"
   ]
  },
  {
   "cell_type": "code",
   "execution_count": 70,
   "metadata": {},
   "outputs": [],
   "source": [
    "mlengine_deploy_op = comp.load_component_from_url(\n",
    "    'https://raw.githubusercontent.com/kubeflow/pipelines/master/components/gcp/ml_engine/deploy/component.yaml')\n",
    "\n",
    "def deploy(\n",
    "    project_id,\n",
    "    model_uri,\n",
    "    model_id,\n",
    "    runtime_version,\n",
    "    python_version):\n",
    "    \n",
    "    return mlengine_deploy_op(\n",
    "        model_uri=model_uri,\n",
    "        project_id=project_id, \n",
    "        model_id=model_id, \n",
    "        runtime_version=runtime_version, \n",
    "        python_version=python_version,\n",
    "        replace_existing_version=True, \n",
    "        set_default=True)"
   ]
  },
  {
   "cell_type": "markdown",
   "metadata": {},
   "source": [
    "# Create a lightweight component for testing the deployment"
   ]
  },
  {
   "cell_type": "code",
   "execution_count": 84,
   "metadata": {},
   "outputs": [],
   "source": [
    "def deployment_test(project_id: str, model_name: str, version: str) -> str:\n",
    "\n",
    "    model_name = model_name.split(\"/\")[-1]\n",
    "    version = version.split(\"/\")[-1]\n",
    "    \n",
    "    import googleapiclient.discovery\n",
    "    \n",
    "    def predict(project, model, data, version=None):\n",
    "      \"\"\"Run predictions on a list of instances.\n",
    "\n",
    "      Args:\n",
    "        project: (str), project where the Cloud ML Engine Model is deployed.\n",
    "        model: (str), model name.\n",
    "        data: ([[any]]), list of input instances, where each input instance is a\n",
    "          list of attributes.\n",
    "        version: str, version of the model to target.\n",
    "\n",
    "      Returns:\n",
    "        Mapping[str: any]: dictionary of prediction results defined by the model.\n",
    "      \"\"\"\n",
    "\n",
    "      service = googleapiclient.discovery.build('ml', 'v1')\n",
    "      name = 'projects/{}/models/{}'.format(project, model)\n",
    "\n",
    "      if version is not None:\n",
    "        name += '/versions/{}'.format(version)\n",
    "\n",
    "      response = service.projects().predict(\n",
    "          name=name, body={\n",
    "              'instances': data\n",
    "          }).execute()\n",
    "\n",
    "      if 'error' in response:\n",
    "        raise RuntimeError(response['error'])\n",
    "\n",
    "      return response['predictions']\n",
    "\n",
    "    import tensorflow as tf\n",
    "    import json\n",
    "    \n",
    "    mnist = tf.keras.datasets.mnist\n",
    "    (x_train, y_train),(x_test, y_test) = mnist.load_data()\n",
    "    x_train, x_test = x_train / 255.0, x_test / 255.0\n",
    "\n",
    "    result = predict(\n",
    "        project=project_id,\n",
    "        model=model_name,\n",
    "        data=x_test[0:2].tolist(),\n",
    "        version=version)\n",
    "    print(result)\n",
    "    \n",
    "    return json.dumps(result)"
   ]
  },
  {
   "cell_type": "code",
   "execution_count": 85,
   "metadata": {},
   "outputs": [
    {
     "name": "stderr",
     "output_type": "stream",
     "text": [
      "/Users/luoshixin/LocalSim/virtualPython35/lib/python3.5/site-packages/google/auth/_default.py:66: UserWarning: Your application has authenticated using end user credentials from Google Cloud SDK. We recommend that most server applications use service accounts instead. If your application continues to use end user credentials from Cloud SDK, you might receive a \"quota exceeded\" or \"API not enabled\" error. For more information about service accounts, see https://cloud.google.com/docs/authentication/\n",
      "  warnings.warn(_CLOUD_SDK_CREDENTIALS_WARNING)\n"
     ]
    },
    {
     "name": "stdout",
     "output_type": "stream",
     "text": [
      "[{'dense_1': [8.298250420146758e-10, 5.753670873076544e-09, 8.097066483969684e-08, 8.076931408140808e-06, 1.990844988863927e-12, 1.6837516103596073e-10, 2.0005800130656198e-14, 0.9999895095825195, 1.339585775639307e-09, 2.21594291360816e-06]}, {'dense_1': [2.2494565932174027e-10, 2.0927380319335498e-05, 0.9999790191650391, 4.458803459783667e-08, 6.04291304021347e-17, 2.6902041705412216e-10, 3.358231401295875e-11, 1.3083588540645143e-16, 1.6866483903976714e-11, 1.6048520169901435e-16]}]\n"
     ]
    },
    {
     "data": {
      "text/plain": [
       "'[{\"dense_1\": [8.298250420146758e-10, 5.753670873076544e-09, 8.097066483969684e-08, 8.076931408140808e-06, 1.990844988863927e-12, 1.6837516103596073e-10, 2.0005800130656198e-14, 0.9999895095825195, 1.339585775639307e-09, 2.21594291360816e-06]}, {\"dense_1\": [2.2494565932174027e-10, 2.0927380319335498e-05, 0.9999790191650391, 4.458803459783667e-08, 6.04291304021347e-17, 2.6902041705412216e-10, 3.358231401295875e-11, 1.3083588540645143e-16, 1.6866483903976714e-11, 1.6048520169901435e-16]}]'"
      ]
     },
     "execution_count": 85,
     "metadata": {},
     "output_type": "execute_result"
    }
   ],
   "source": [
    "deployment_test(\n",
    "    project_id=PROJECT_ID,\n",
    "    model_name=\"minist\",\n",
    "    version='ver_bb1ebd2a06ab7f321ad3db6b3b3d83e6' # previous deployed version for testing\n",
    ")"
   ]
  },
  {
   "cell_type": "code",
   "execution_count": 86,
   "metadata": {},
   "outputs": [],
   "source": [
    "deployment_test_op = comp.func_to_container_op(\n",
    "    func=deployment_test, \n",
    "    base_image=\"tensorflow/tensorflow:1.15.0-py3\",\n",
    "    packages_to_install=[\"google-api-python-client==1.7.8\"])"
   ]
  },
  {
   "cell_type": "markdown",
   "metadata": {},
   "source": [
    "# Create your workflow as a Python function"
   ]
  },
  {
   "cell_type": "markdown",
   "metadata": {},
   "source": [
    "Define your pipeline as a Python function. ` @kfp.dsl.pipeline` is a required decoration including `name` and `description` properties. Then compile the pipeline function. After the compilation is completed, a pipeline file is created."
   ]
  },
  {
   "cell_type": "code",
   "execution_count": 87,
   "metadata": {},
   "outputs": [],
   "source": [
    "# Define the pipeline\n",
    "@dsl.pipeline(\n",
    "   name='Minist pipeline',\n",
    "   description='A toy pipeline that performs minist model training.'\n",
    ")\n",
    "def minist_reuse_component_pipeline(\n",
    "    project_id: str = PROJECT_ID,\n",
    "    model_path: str = 'mnist_model', \n",
    "    bucket: str = \"gs://kubeflow-pipeline-fantasy-kubeflow1-bucket\"\n",
    "):\n",
    "    train_task = minist_train_op(\n",
    "        model_path=model_path, \n",
    "        bucket=bucket\n",
    "    ).apply(gcp.use_gcp_secret('user-gcp-sa'))\n",
    "    \n",
    "    deploy_task = deploy(\n",
    "        project_id=project_id,\n",
    "        model_uri=train_task.outputs['gcs_model_path'],\n",
    "        model_id=\"minist\", \n",
    "        runtime_version=\"1.14\",\n",
    "        python_version=\"3.5\"\n",
    "    ).apply(gcp.use_gcp_secret('user-gcp-sa'))  \n",
    "    \n",
    "    deploy_test_task = deployment_test_op(\n",
    "        project_id=project_id,\n",
    "        model_name=deploy_task.outputs[\"model_name\"], \n",
    "        version=deploy_task.outputs[\"version_name\"],\n",
    "    ).apply(gcp.use_gcp_secret('user-gcp-sa'))\n",
    "    \n",
    "    return True"
   ]
  },
  {
   "cell_type": "code",
   "execution_count": 88,
   "metadata": {},
   "outputs": [],
   "source": [
    "#Get or create an experiment and submit a pipeline run\n",
    "in_cluster = True\n",
    "try:\n",
    "  k8s.config.load_incluster_config()\n",
    "except:\n",
    "  in_cluster = False\n",
    "  pass\n",
    "\n",
    "if in_cluster:\n",
    "    client = kfp.Client()\n",
    "else:\n",
    "    host = \"https://kubeflow1.endpoints.kubeflow-pipeline-fantasy.cloud.goog/pipeline\"\n",
    "    client_id = \"493831447550-os23o55235htd9v45a9lsejv8d1plhd0.apps.googleusercontent.com\"\n",
    "    other_client_id = \"493831447550-iu24vv6id3ng5smhf2lboovv5qukuhbh.apps.googleusercontent.com\"\n",
    "    other_client_secret = \"cB8Xj-rb9JWCYcCRDlpTMfhc\"\n",
    "    client = kfp.Client(host=host, \n",
    "                        client_id=client_id,\n",
    "                        other_client_id=other_client_id, \n",
    "                        other_client_secret=other_client_secret)"
   ]
  },
  {
   "cell_type": "code",
   "execution_count": 89,
   "metadata": {},
   "outputs": [
    {
     "name": "stderr",
     "output_type": "stream",
     "text": [
      "/Users/luoshixin/LocalSim/virtualPython35/lib/python3.5/site-packages/kfp/components/_data_passing.py:154: UserWarning: There are no registered serializers from type \"bool\" to type \"Bool\", so the value will be serializers as string \"True\".\n",
      "  serialized_value),\n"
     ]
    },
    {
     "data": {
      "text/html": [
       "Experiment link <a href=\"https://kubeflow1.endpoints.kubeflow-pipeline-fantasy.cloud.goog/pipeline/#/experiments/details/a1bdd769-68c9-42eb-a48b-f239f2f0a94e\" target=\"_blank\" >here</a>"
      ],
      "text/plain": [
       "<IPython.core.display.HTML object>"
      ]
     },
     "metadata": {},
     "output_type": "display_data"
    },
    {
     "data": {
      "text/html": [
       "Run link <a href=\"https://kubeflow1.endpoints.kubeflow-pipeline-fantasy.cloud.goog/pipeline/#/runs/details/93e243da-f4b4-47aa-aed8-c773e3b203a0\" target=\"_blank\" >here</a>"
      ],
      "text/plain": [
       "<IPython.core.display.HTML object>"
      ]
     },
     "metadata": {},
     "output_type": "display_data"
    }
   ],
   "source": [
    "pipeline_func = minist_reuse_component_pipeline\n",
    "pipeline_filename = pipeline_func.__name__ + '.pipeline.zip'\n",
    "\n",
    "compiler.Compiler().compile(pipeline_func, pipeline_filename)\n",
    "#Submit a pipeline run\n",
    "arguments = {\"model_path\":\"mnist_model\",\n",
    "             \"bucket\":\"gs://kubeflow-pipeline-fantasy-kubeflow1-bucket\"}\n",
    "run_name = pipeline_func.__name__ + ' run'\n",
    "experiment = client.create_experiment('python-functions-minist')\n",
    "\n",
    "run_result = client.run_pipeline(experiment.id, run_name, pipeline_filename, arguments)"
   ]
  },
  {
   "cell_type": "markdown",
   "metadata": {},
   "source": [
    "Follow the [instructions](https://www.kubeflow.org/docs/other-guides/accessing-uis/) on kubeflow.org to access Kubeflow UIs. Upload the created pipeline and run it.\n",
    "\n",
    "**Warning:** When the pipeline is run, it pulls the image from the repository to the Kubernetes cluster to create a container. Kubernetes caches pulled images. One solution is to use the image digest instead of the tag in your component dsl, for example, `s/v1/sha256:9509182e27dcba6d6903fccf444dc6188709cc094a018d5dd4211573597485c9/g`. Alternatively, if you don't want to update the digest every time, you can try `:latest` tag, which will force the k8s to always pull the latest image.."
   ]
  },
  {
   "cell_type": "markdown",
   "metadata": {},
   "source": [
    "___"
   ]
  }
 ],
 "metadata": {
  "kernelspec": {
   "display_name": "virtualPython35",
   "language": "python",
   "name": "virtualpython35"
  },
  "language_info": {
   "codemirror_mode": {
    "name": "ipython",
    "version": 3
   },
   "file_extension": ".py",
   "mimetype": "text/x-python",
   "name": "python",
   "nbconvert_exporter": "python",
   "pygments_lexer": "ipython3",
   "version": "3.5.7"
  }
 },
 "nbformat": 4,
 "nbformat_minor": 2
}
